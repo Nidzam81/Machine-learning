{
 "cells": [
  {
   "cell_type": "markdown",
   "metadata": {},
   "source": [
    "# Assignment 1\n",
    "\n",
    "# Team Name : Spritzer"
   ]
  },
  {
   "cell_type": "markdown",
   "metadata": {},
   "source": [
    "Team member:  \n",
    "1) Ahmad Nizam Mohd Lazim (MAN171058)  \n",
    "2) Muhammad Nidzam Maso'od (MAN171043)  \n",
    "3) Mohammad Nurihan Salikin (MAN171032)  "
   ]
  },
  {
   "cell_type": "markdown",
   "metadata": {},
   "source": [
    "**Report objectives: **  \n",
    "We want to analyze what factor that can cause customer to churn and try to provide some solution to retain the customer."
   ]
  },
  {
   "cell_type": "markdown",
   "metadata": {},
   "source": [
    "For this report we will cover   \n",
    "1) Data pre processing (Loading and Cleansing)  \n",
    "2) Data analysis and visualization  \n",
    "3) Meaningful patterns  \n",
    "4) Prediction analytics   \n",
    "5) Communication strategies  \n",
    "6) CEO summarized report"
   ]
  },
  {
   "cell_type": "markdown",
   "metadata": {},
   "source": [
    "## Data pre processing (Loading and Cleansing)"
   ]
  },
  {
   "cell_type": "code",
   "execution_count": 1,
   "metadata": {},
   "outputs": [],
   "source": [
    "import matplotlib.pyplot as plt\n",
    "import pandas as pd\n",
    "import numpy as np\n",
    "%matplotlib inline\n",
    "import seaborn as sns\n",
    "import sklearn as sk\n",
    "import scipy.stats as stats\n",
    "import time"
   ]
  },
  {
   "cell_type": "markdown",
   "metadata": {},
   "source": [
    "During initial check up of the file, we found out there is a few blank cells, so we set the null value as blank cell when we load the file"
   ]
  },
  {
   "cell_type": "code",
   "execution_count": 2,
   "metadata": {},
   "outputs": [
    {
     "name": "stdout",
     "output_type": "stream",
     "text": [
      "Before removing null\n",
      "customerID           0\n",
      "gender               0\n",
      "SeniorCitizen        0\n",
      "Partner              0\n",
      "Dependents           0\n",
      "tenure               0\n",
      "PhoneService         0\n",
      "MultipleLines        0\n",
      "InternetService      0\n",
      "OnlineSecurity       0\n",
      "OnlineBackup         0\n",
      "DeviceProtection     0\n",
      "TechSupport          0\n",
      "StreamingTV          0\n",
      "StreamingMovies      0\n",
      "Contract             0\n",
      "PaperlessBilling     0\n",
      "PaymentMethod        0\n",
      "MonthlyCharges       0\n",
      "TotalCharges        11\n",
      "Churn                0\n",
      "dtype: int64\n"
     ]
    }
   ],
   "source": [
    "churn= pd.read_csv('C:/Users/masoodm/Documents/Python UTM learning/Telco-Customer-Churn.csv',na_values=[\" \"])\n",
    "\n",
    "#check and remove null\n",
    "print('Before removing null')\n",
    "print(churn.isnull().sum())"
   ]
  },
  {
   "cell_type": "markdown",
   "metadata": {},
   "source": [
    "We found out there are 11 blank cells and we proceed to remove this linefrom our data."
   ]
  },
  {
   "cell_type": "code",
   "execution_count": 3,
   "metadata": {
    "scrolled": true
   },
   "outputs": [
    {
     "name": "stdout",
     "output_type": "stream",
     "text": [
      "After removing null\n",
      "customerID          0\n",
      "gender              0\n",
      "SeniorCitizen       0\n",
      "Partner             0\n",
      "Dependents          0\n",
      "tenure              0\n",
      "PhoneService        0\n",
      "MultipleLines       0\n",
      "InternetService     0\n",
      "OnlineSecurity      0\n",
      "OnlineBackup        0\n",
      "DeviceProtection    0\n",
      "TechSupport         0\n",
      "StreamingTV         0\n",
      "StreamingMovies     0\n",
      "Contract            0\n",
      "PaperlessBilling    0\n",
      "PaymentMethod       0\n",
      "MonthlyCharges      0\n",
      "TotalCharges        0\n",
      "Churn               0\n",
      "dtype: int64\n"
     ]
    },
    {
     "data": {
      "text/html": [
       "<div>\n",
       "<style scoped>\n",
       "    .dataframe tbody tr th:only-of-type {\n",
       "        vertical-align: middle;\n",
       "    }\n",
       "\n",
       "    .dataframe tbody tr th {\n",
       "        vertical-align: top;\n",
       "    }\n",
       "\n",
       "    .dataframe thead th {\n",
       "        text-align: right;\n",
       "    }\n",
       "</style>\n",
       "<table border=\"1\" class=\"dataframe\">\n",
       "  <thead>\n",
       "    <tr style=\"text-align: right;\">\n",
       "      <th></th>\n",
       "      <th>0</th>\n",
       "      <th>1</th>\n",
       "      <th>2</th>\n",
       "      <th>3</th>\n",
       "      <th>4</th>\n",
       "    </tr>\n",
       "  </thead>\n",
       "  <tbody>\n",
       "    <tr>\n",
       "      <th>customerID</th>\n",
       "      <td>7590-VHVEG</td>\n",
       "      <td>5575-GNVDE</td>\n",
       "      <td>3668-QPYBK</td>\n",
       "      <td>7795-CFOCW</td>\n",
       "      <td>9237-HQITU</td>\n",
       "    </tr>\n",
       "    <tr>\n",
       "      <th>gender</th>\n",
       "      <td>Female</td>\n",
       "      <td>Male</td>\n",
       "      <td>Male</td>\n",
       "      <td>Male</td>\n",
       "      <td>Female</td>\n",
       "    </tr>\n",
       "    <tr>\n",
       "      <th>SeniorCitizen</th>\n",
       "      <td>0</td>\n",
       "      <td>0</td>\n",
       "      <td>0</td>\n",
       "      <td>0</td>\n",
       "      <td>0</td>\n",
       "    </tr>\n",
       "    <tr>\n",
       "      <th>Partner</th>\n",
       "      <td>Yes</td>\n",
       "      <td>No</td>\n",
       "      <td>No</td>\n",
       "      <td>No</td>\n",
       "      <td>No</td>\n",
       "    </tr>\n",
       "    <tr>\n",
       "      <th>Dependents</th>\n",
       "      <td>No</td>\n",
       "      <td>No</td>\n",
       "      <td>No</td>\n",
       "      <td>No</td>\n",
       "      <td>No</td>\n",
       "    </tr>\n",
       "    <tr>\n",
       "      <th>tenure</th>\n",
       "      <td>1</td>\n",
       "      <td>34</td>\n",
       "      <td>2</td>\n",
       "      <td>45</td>\n",
       "      <td>2</td>\n",
       "    </tr>\n",
       "    <tr>\n",
       "      <th>PhoneService</th>\n",
       "      <td>No</td>\n",
       "      <td>Yes</td>\n",
       "      <td>Yes</td>\n",
       "      <td>No</td>\n",
       "      <td>Yes</td>\n",
       "    </tr>\n",
       "    <tr>\n",
       "      <th>MultipleLines</th>\n",
       "      <td>No phone service</td>\n",
       "      <td>No</td>\n",
       "      <td>No</td>\n",
       "      <td>No phone service</td>\n",
       "      <td>No</td>\n",
       "    </tr>\n",
       "    <tr>\n",
       "      <th>InternetService</th>\n",
       "      <td>DSL</td>\n",
       "      <td>DSL</td>\n",
       "      <td>DSL</td>\n",
       "      <td>DSL</td>\n",
       "      <td>Fiber optic</td>\n",
       "    </tr>\n",
       "    <tr>\n",
       "      <th>OnlineSecurity</th>\n",
       "      <td>No</td>\n",
       "      <td>Yes</td>\n",
       "      <td>Yes</td>\n",
       "      <td>Yes</td>\n",
       "      <td>No</td>\n",
       "    </tr>\n",
       "    <tr>\n",
       "      <th>OnlineBackup</th>\n",
       "      <td>Yes</td>\n",
       "      <td>No</td>\n",
       "      <td>Yes</td>\n",
       "      <td>No</td>\n",
       "      <td>No</td>\n",
       "    </tr>\n",
       "    <tr>\n",
       "      <th>DeviceProtection</th>\n",
       "      <td>No</td>\n",
       "      <td>Yes</td>\n",
       "      <td>No</td>\n",
       "      <td>Yes</td>\n",
       "      <td>No</td>\n",
       "    </tr>\n",
       "    <tr>\n",
       "      <th>TechSupport</th>\n",
       "      <td>No</td>\n",
       "      <td>No</td>\n",
       "      <td>No</td>\n",
       "      <td>Yes</td>\n",
       "      <td>No</td>\n",
       "    </tr>\n",
       "    <tr>\n",
       "      <th>StreamingTV</th>\n",
       "      <td>No</td>\n",
       "      <td>No</td>\n",
       "      <td>No</td>\n",
       "      <td>No</td>\n",
       "      <td>No</td>\n",
       "    </tr>\n",
       "    <tr>\n",
       "      <th>StreamingMovies</th>\n",
       "      <td>No</td>\n",
       "      <td>No</td>\n",
       "      <td>No</td>\n",
       "      <td>No</td>\n",
       "      <td>No</td>\n",
       "    </tr>\n",
       "    <tr>\n",
       "      <th>Contract</th>\n",
       "      <td>Month-to-month</td>\n",
       "      <td>One year</td>\n",
       "      <td>Month-to-month</td>\n",
       "      <td>One year</td>\n",
       "      <td>Month-to-month</td>\n",
       "    </tr>\n",
       "    <tr>\n",
       "      <th>PaperlessBilling</th>\n",
       "      <td>Yes</td>\n",
       "      <td>No</td>\n",
       "      <td>Yes</td>\n",
       "      <td>No</td>\n",
       "      <td>Yes</td>\n",
       "    </tr>\n",
       "    <tr>\n",
       "      <th>PaymentMethod</th>\n",
       "      <td>Electronic check</td>\n",
       "      <td>Mailed check</td>\n",
       "      <td>Mailed check</td>\n",
       "      <td>Bank transfer (automatic)</td>\n",
       "      <td>Electronic check</td>\n",
       "    </tr>\n",
       "    <tr>\n",
       "      <th>MonthlyCharges</th>\n",
       "      <td>29.85</td>\n",
       "      <td>56.95</td>\n",
       "      <td>53.85</td>\n",
       "      <td>42.3</td>\n",
       "      <td>70.7</td>\n",
       "    </tr>\n",
       "    <tr>\n",
       "      <th>TotalCharges</th>\n",
       "      <td>29.85</td>\n",
       "      <td>1889.5</td>\n",
       "      <td>108.15</td>\n",
       "      <td>1840.75</td>\n",
       "      <td>151.65</td>\n",
       "    </tr>\n",
       "    <tr>\n",
       "      <th>Churn</th>\n",
       "      <td>No</td>\n",
       "      <td>No</td>\n",
       "      <td>Yes</td>\n",
       "      <td>No</td>\n",
       "      <td>Yes</td>\n",
       "    </tr>\n",
       "  </tbody>\n",
       "</table>\n",
       "</div>"
      ],
      "text/plain": [
       "                                 0             1               2  \\\n",
       "customerID              7590-VHVEG    5575-GNVDE      3668-QPYBK   \n",
       "gender                      Female          Male            Male   \n",
       "SeniorCitizen                    0             0               0   \n",
       "Partner                        Yes            No              No   \n",
       "Dependents                      No            No              No   \n",
       "tenure                           1            34               2   \n",
       "PhoneService                    No           Yes             Yes   \n",
       "MultipleLines     No phone service            No              No   \n",
       "InternetService                DSL           DSL             DSL   \n",
       "OnlineSecurity                  No           Yes             Yes   \n",
       "OnlineBackup                   Yes            No             Yes   \n",
       "DeviceProtection                No           Yes              No   \n",
       "TechSupport                     No            No              No   \n",
       "StreamingTV                     No            No              No   \n",
       "StreamingMovies                 No            No              No   \n",
       "Contract            Month-to-month      One year  Month-to-month   \n",
       "PaperlessBilling               Yes            No             Yes   \n",
       "PaymentMethod     Electronic check  Mailed check    Mailed check   \n",
       "MonthlyCharges               29.85         56.95           53.85   \n",
       "TotalCharges                 29.85        1889.5          108.15   \n",
       "Churn                           No            No             Yes   \n",
       "\n",
       "                                          3                 4  \n",
       "customerID                       7795-CFOCW        9237-HQITU  \n",
       "gender                                 Male            Female  \n",
       "SeniorCitizen                             0                 0  \n",
       "Partner                                  No                No  \n",
       "Dependents                               No                No  \n",
       "tenure                                   45                 2  \n",
       "PhoneService                             No               Yes  \n",
       "MultipleLines              No phone service                No  \n",
       "InternetService                         DSL       Fiber optic  \n",
       "OnlineSecurity                          Yes                No  \n",
       "OnlineBackup                             No                No  \n",
       "DeviceProtection                        Yes                No  \n",
       "TechSupport                             Yes                No  \n",
       "StreamingTV                              No                No  \n",
       "StreamingMovies                          No                No  \n",
       "Contract                           One year    Month-to-month  \n",
       "PaperlessBilling                         No               Yes  \n",
       "PaymentMethod     Bank transfer (automatic)  Electronic check  \n",
       "MonthlyCharges                         42.3              70.7  \n",
       "TotalCharges                        1840.75            151.65  \n",
       "Churn                                    No               Yes  "
      ]
     },
     "execution_count": 3,
     "metadata": {},
     "output_type": "execute_result"
    }
   ],
   "source": [
    "print('After removing null')\n",
    "churn = churn.dropna()\n",
    "print(churn.isnull().sum())\n",
    "churn.head(5).T"
   ]
  },
  {
   "cell_type": "code",
   "execution_count": 4,
   "metadata": {},
   "outputs": [
    {
     "data": {
      "text/plain": [
       "(7032, 21)"
      ]
     },
     "execution_count": 4,
     "metadata": {},
     "output_type": "execute_result"
    }
   ],
   "source": [
    "churn.shape"
   ]
  },
  {
   "cell_type": "markdown",
   "metadata": {},
   "source": [
    "From the above, for this set of data we have 7032 rows and 21 columns."
   ]
  },
  {
   "cell_type": "code",
   "execution_count": 5,
   "metadata": {},
   "outputs": [
    {
     "data": {
      "text/plain": [
       "customerID           object\n",
       "gender               object\n",
       "SeniorCitizen         int64\n",
       "Partner              object\n",
       "Dependents           object\n",
       "tenure                int64\n",
       "PhoneService         object\n",
       "MultipleLines        object\n",
       "InternetService      object\n",
       "OnlineSecurity       object\n",
       "OnlineBackup         object\n",
       "DeviceProtection     object\n",
       "TechSupport          object\n",
       "StreamingTV          object\n",
       "StreamingMovies      object\n",
       "Contract             object\n",
       "PaperlessBilling     object\n",
       "PaymentMethod        object\n",
       "MonthlyCharges      float64\n",
       "TotalCharges        float64\n",
       "Churn                object\n",
       "dtype: object"
      ]
     },
     "execution_count": 5,
     "metadata": {},
     "output_type": "execute_result"
    }
   ],
   "source": [
    "churn.dtypes"
   ]
  },
  {
   "cell_type": "code",
   "execution_count": 6,
   "metadata": {},
   "outputs": [
    {
     "data": {
      "text/plain": [
       "customerID            object\n",
       "gender                object\n",
       "SeniorCitizen       category\n",
       "Partner               object\n",
       "Dependents            object\n",
       "tenure                 int64\n",
       "PhoneService          object\n",
       "MultipleLines         object\n",
       "InternetService       object\n",
       "OnlineSecurity        object\n",
       "OnlineBackup          object\n",
       "DeviceProtection      object\n",
       "TechSupport           object\n",
       "StreamingTV           object\n",
       "StreamingMovies       object\n",
       "Contract              object\n",
       "PaperlessBilling      object\n",
       "PaymentMethod         object\n",
       "MonthlyCharges       float64\n",
       "TotalCharges         float64\n",
       "Churn                 object\n",
       "dtype: object"
      ]
     },
     "execution_count": 6,
     "metadata": {},
     "output_type": "execute_result"
    }
   ],
   "source": [
    "churn['SeniorCitizen']=pd.Categorical(churn['SeniorCitizen']) #Changing from int to categorical\n",
    "churn.dtypes"
   ]
  },
  {
   "cell_type": "code",
   "execution_count": 7,
   "metadata": {},
   "outputs": [
    {
     "data": {
      "text/html": [
       "<div>\n",
       "<style scoped>\n",
       "    .dataframe tbody tr th:only-of-type {\n",
       "        vertical-align: middle;\n",
       "    }\n",
       "\n",
       "    .dataframe tbody tr th {\n",
       "        vertical-align: top;\n",
       "    }\n",
       "\n",
       "    .dataframe thead th {\n",
       "        text-align: right;\n",
       "    }\n",
       "</style>\n",
       "<table border=\"1\" class=\"dataframe\">\n",
       "  <thead>\n",
       "    <tr style=\"text-align: right;\">\n",
       "      <th></th>\n",
       "      <th>0</th>\n",
       "    </tr>\n",
       "  </thead>\n",
       "  <tbody>\n",
       "    <tr>\n",
       "      <th>gender</th>\n",
       "      <td>Female</td>\n",
       "    </tr>\n",
       "    <tr>\n",
       "      <th>SeniorCitizen</th>\n",
       "      <td>0</td>\n",
       "    </tr>\n",
       "    <tr>\n",
       "      <th>Partner</th>\n",
       "      <td>Yes</td>\n",
       "    </tr>\n",
       "    <tr>\n",
       "      <th>Dependents</th>\n",
       "      <td>No</td>\n",
       "    </tr>\n",
       "    <tr>\n",
       "      <th>tenure</th>\n",
       "      <td>1</td>\n",
       "    </tr>\n",
       "    <tr>\n",
       "      <th>PhoneService</th>\n",
       "      <td>No</td>\n",
       "    </tr>\n",
       "    <tr>\n",
       "      <th>MultipleLines</th>\n",
       "      <td>No phone service</td>\n",
       "    </tr>\n",
       "    <tr>\n",
       "      <th>InternetService</th>\n",
       "      <td>DSL</td>\n",
       "    </tr>\n",
       "    <tr>\n",
       "      <th>OnlineSecurity</th>\n",
       "      <td>No</td>\n",
       "    </tr>\n",
       "    <tr>\n",
       "      <th>OnlineBackup</th>\n",
       "      <td>Yes</td>\n",
       "    </tr>\n",
       "    <tr>\n",
       "      <th>DeviceProtection</th>\n",
       "      <td>No</td>\n",
       "    </tr>\n",
       "    <tr>\n",
       "      <th>TechSupport</th>\n",
       "      <td>No</td>\n",
       "    </tr>\n",
       "    <tr>\n",
       "      <th>StreamingTV</th>\n",
       "      <td>No</td>\n",
       "    </tr>\n",
       "    <tr>\n",
       "      <th>StreamingMovies</th>\n",
       "      <td>No</td>\n",
       "    </tr>\n",
       "    <tr>\n",
       "      <th>Contract</th>\n",
       "      <td>Month-to-month</td>\n",
       "    </tr>\n",
       "    <tr>\n",
       "      <th>PaperlessBilling</th>\n",
       "      <td>Yes</td>\n",
       "    </tr>\n",
       "    <tr>\n",
       "      <th>PaymentMethod</th>\n",
       "      <td>Electronic check</td>\n",
       "    </tr>\n",
       "    <tr>\n",
       "      <th>MonthlyCharges</th>\n",
       "      <td>29.85</td>\n",
       "    </tr>\n",
       "    <tr>\n",
       "      <th>TotalCharges</th>\n",
       "      <td>29.85</td>\n",
       "    </tr>\n",
       "    <tr>\n",
       "      <th>Churn</th>\n",
       "      <td>No</td>\n",
       "    </tr>\n",
       "  </tbody>\n",
       "</table>\n",
       "</div>"
      ],
      "text/plain": [
       "                                 0\n",
       "gender                      Female\n",
       "SeniorCitizen                    0\n",
       "Partner                        Yes\n",
       "Dependents                      No\n",
       "tenure                           1\n",
       "PhoneService                    No\n",
       "MultipleLines     No phone service\n",
       "InternetService                DSL\n",
       "OnlineSecurity                  No\n",
       "OnlineBackup                   Yes\n",
       "DeviceProtection                No\n",
       "TechSupport                     No\n",
       "StreamingTV                     No\n",
       "StreamingMovies                 No\n",
       "Contract            Month-to-month\n",
       "PaperlessBilling               Yes\n",
       "PaymentMethod     Electronic check\n",
       "MonthlyCharges               29.85\n",
       "TotalCharges                 29.85\n",
       "Churn                           No"
      ]
     },
     "execution_count": 7,
     "metadata": {},
     "output_type": "execute_result"
    }
   ],
   "source": [
    "del churn[\"customerID\"] # Deleting the custumerID column\n",
    "churn.head(1).T"
   ]
  },
  {
   "cell_type": "markdown",
   "metadata": {},
   "source": [
    "For our analysis, we will devide our analysis based on the data type which is numerical and categorical"
   ]
  },
  {
   "cell_type": "code",
   "execution_count": 8,
   "metadata": {},
   "outputs": [
    {
     "name": "stdout",
     "output_type": "stream",
     "text": [
      "showing numeric columns\n",
      "Index(['tenure', 'MonthlyCharges', 'TotalCharges'], dtype='object')\n",
      "\n",
      "showing categorical columns\n",
      "Index(['gender', 'SeniorCitizen', 'Partner', 'Dependents', 'PhoneService',\n",
      "       'MultipleLines', 'InternetService', 'OnlineSecurity', 'OnlineBackup',\n",
      "       'DeviceProtection', 'TechSupport', 'StreamingTV', 'StreamingMovies',\n",
      "       'Contract', 'PaperlessBilling', 'PaymentMethod', 'Churn'],\n",
      "      dtype='object')\n"
     ]
    }
   ],
   "source": [
    "numerics = ['float64', 'int64']\n",
    "numeric_ds = churn.select_dtypes(include=numerics)\n",
    "objects_ds = churn.select_dtypes(exclude=numerics)\n",
    "print('showing numeric columns')\n",
    "print(numeric_ds.columns)\n",
    "print(\"\")\n",
    "print('showing categorical columns')\n",
    "print(objects_ds.columns)"
   ]
  },
  {
   "cell_type": "markdown",
   "metadata": {},
   "source": [
    "1.There is only 3 Variables that containing numerical values.  \n",
    "a) tenure  \n",
    "b) MonthlyCharges  \n",
    "c) TotalCharges  "
   ]
  },
  {
   "cell_type": "markdown",
   "metadata": {},
   "source": [
    "### Numerical analysis"
   ]
  },
  {
   "cell_type": "code",
   "execution_count": 9,
   "metadata": {},
   "outputs": [
    {
     "name": "stdout",
     "output_type": "stream",
     "text": [
      "below are the stats for No churn\n",
      "           tenure\n",
      "count  5163.00000\n",
      "mean     37.65001\n",
      "std      24.07694\n",
      "min       1.00000\n",
      "25%      15.00000\n",
      "50%      38.00000\n",
      "75%      61.00000\n",
      "max      72.00000\n",
      " \n",
      "below are the stats for Yes churn\n",
      "            tenure\n",
      "count  1869.000000\n",
      "mean     17.979133\n",
      "std      19.531123\n",
      "min       1.000000\n",
      "25%       2.000000\n",
      "50%      10.000000\n",
      "75%      29.000000\n",
      "max      72.000000\n",
      "below are the stats for No churn\n",
      "       MonthlyCharges\n",
      "count     5163.000000\n",
      "mean        61.307408\n",
      "std         31.094557\n",
      "min         18.250000\n",
      "25%         25.100000\n",
      "50%         64.450000\n",
      "75%         88.475000\n",
      "max        118.750000\n",
      " \n",
      "below are the stats for Yes churn\n",
      "       MonthlyCharges\n",
      "count     1869.000000\n",
      "mean        74.441332\n",
      "std         24.666053\n",
      "min         18.850000\n",
      "25%         56.150000\n",
      "50%         79.650000\n",
      "75%         94.200000\n",
      "max        118.350000\n",
      "below are the stats for No churn\n",
      "       TotalCharges\n",
      "count   5163.000000\n",
      "mean    2555.344141\n",
      "std     2329.456984\n",
      "min       18.800000\n",
      "25%      577.825000\n",
      "50%     1683.600000\n",
      "75%     4264.125000\n",
      "max     8672.450000\n",
      " \n",
      "below are the stats for Yes churn\n",
      "       TotalCharges\n",
      "count   1869.000000\n",
      "mean    1531.796094\n",
      "std     1890.822994\n",
      "min       18.850000\n",
      "25%      134.500000\n",
      "50%      703.550000\n",
      "75%     2331.300000\n",
      "max     8684.800000\n"
     ]
    },
    {
     "data": {
      "image/png": "[encoded data removed]",
      "text/plain": [
       "<matplotlib.figure.Figure at 0xb990cc0>"
      ]
     },
     "metadata": {},
     "output_type": "display_data"
    },
    {
     "data": {
      "image/png": "[encoded data removed]",
      "text/plain": [
       "<matplotlib.figure.Figure at 0xbb08e48>"
      ]
     },
     "metadata": {},
     "output_type": "display_data"
    },
    {
     "data": {
      "image/png": "[encoded data removed]",
      "text/plain": [
       "<matplotlib.figure.Figure at 0xbbc6a20>"
      ]
     },
     "metadata": {},
     "output_type": "display_data"
    }
   ],
   "source": [
    "x_tenure=churn.loc[:,['tenure','Churn']]\n",
    "x_mothlycharges=churn.loc[:,['MonthlyCharges','Churn']]\n",
    "x_totalcharges=churn.loc[:,['TotalCharges','Churn']]\n",
    "# create statistic function\n",
    "def stats(x):\n",
    "    No_stats=x[x['Churn']=='No']\n",
    "    print('below are the stats for No churn')\n",
    "    print(No_stats.describe())\n",
    "    print(' ')\n",
    "    #stats for Yes churn\n",
    "    Yes_stats=x[x['Churn']=='Yes']\n",
    "    print('below are the stats for Yes churn')\n",
    "    print(Yes_stats.describe())\n",
    "    z=x.groupby('Churn')\n",
    "    z.boxplot(return_type='dict')\n",
    "    \n",
    "stats(x_tenure)\n",
    "stats(x_mothlycharges)\n",
    "stats(x_totalcharges)"
   ]
  },
  {
   "cell_type": "code",
   "execution_count": 10,
   "metadata": {},
   "outputs": [],
   "source": [
    "import scipy.stats as stats\n",
    "x_tenure=churn.loc[:,['tenure','Churn']]\n",
    "x_mothlycharges=churn.loc[:,['MonthlyCharges','Churn']]\n",
    "x_totalcharges=churn.loc[:,['TotalCharges','Churn']]"
   ]
  },
  {
   "cell_type": "code",
   "execution_count": 11,
   "metadata": {},
   "outputs": [
    {
     "name": "stdout",
     "output_type": "stream",
     "text": [
      "t value for tenure No and Yes comparison= 31.741289063447653\n",
      "p value for tenure No and Yes comparison= 9.437650217574845e-207\n"
     ]
    }
   ],
   "source": [
    "x=x_tenure\n",
    "No_stats=x[x['Churn']=='No']\n",
    "Yes_stats=x[x['Churn']=='Yes']\n",
    "sample1 = No_stats['tenure']\n",
    "sample2 = Yes_stats['tenure']\n",
    "t_stat, p_val = stats.ttest_ind(sample1, sample2, equal_var=True)\n",
    "print(\"t value for tenure No and Yes comparison= \" + str(t_stat))\n",
    "print(\"p value for tenure No and Yes comparison= \" + str(p_val))"
   ]
  },
  {
   "cell_type": "code",
   "execution_count": 12,
   "metadata": {},
   "outputs": [
    {
     "name": "stdout",
     "output_type": "stream",
     "text": [
      "t value for MonthlyCharges No and Yes comparison= -16.47959313114872\n",
      "p value for MonthlyCharges No and Yes comparison= 6.760843117980302e-60\n"
     ]
    }
   ],
   "source": [
    "x=x_mothlycharges\n",
    "No_stats=x[x['Churn']=='No']\n",
    "Yes_stats=x[x['Churn']=='Yes']\n",
    "sample1 = No_stats['MonthlyCharges']\n",
    "sample2 = Yes_stats['MonthlyCharges']\n",
    "t_stat, p_val = stats.ttest_ind(sample1, sample2, equal_var=True)\n",
    "print(\"t value for MonthlyCharges No and Yes comparison= \" + str(t_stat))\n",
    "print(\"p value for MonthlyCharges No and Yes comparison= \" + str(p_val))"
   ]
  },
  {
   "cell_type": "code",
   "execution_count": 13,
   "metadata": {},
   "outputs": [
    {
     "name": "stdout",
     "output_type": "stream",
     "text": [
      "t value for TotalCharges No and Yes comparison= 17.068827211220274\n",
      "p value for TotalCharges No and Yes comparison= 4.876865689694505e-64\n"
     ]
    }
   ],
   "source": [
    "x=x_totalcharges\n",
    "No_stats=x[x['Churn']=='No']\n",
    "Yes_stats=x[x['Churn']=='Yes']\n",
    "sample1 = No_stats['TotalCharges']\n",
    "sample2 = Yes_stats['TotalCharges']\n",
    "t_stat, p_val = stats.ttest_ind(sample1, sample2, equal_var=True)\n",
    "print(\"t value for TotalCharges No and Yes comparison= \" + str(t_stat))\n",
    "print(\"p value for TotalCharges No and Yes comparison= \" + str(p_val))"
   ]
  },
  {
   "cell_type": "markdown",
   "metadata": {},
   "source": [
    "**Interpreting t-value:  **\n",
    "The t-value measures the size of the difference relative to the variation in your sample data. Put another way, T is simply the calculated difference represented in units of standard error. The greater the magnitude of T (it can be either positive or negative), the greater the evidence against the null hypothesis that there is no significant difference. The closer T is to 0, the more likely there isn't a significant difference.  \n",
    "  \n",
    "**Interpreting p-value:  **\n",
    "p-value is very low (< alpha level), you reject the null hypothesis and conclude that there's a statistically significant difference.\n",
    "\n",
    "Based from ttest result, all numeric variables will have significant different in the mean between Yes and No churn.  \n",
    "\n",
    "_Describtion analytics _\n",
    "\n",
    "**a) Tenure **\n",
    "•The shortest tenure in the dataset was 1 month while the longest was 72 months  \n",
    "•Averages period for loyal subscriber was 37 months (year-3), but customer customer also tend to choose different provider in year-2 (17 months) \n",
    "•however, based on boxplot above the customers who already subscribed for a long time are may churn to different provide. \n",
    "\n",
    "**b) Monthly charges **\n",
    "•The highest packages charges to customer was 118.35 and the cheapest packages prices was 18.25\n",
    "•Average monthly subscription package price was 64.76\n",
    "•customer subscribe with more expensive than average are most likely to churn (average 74.4).\n",
    "\n",
    "**c) Total Charges **\n",
    "•these number are not really significant for the analysis because the longer the customer subscribed with expensive plan, the higher the total charges\n",
    "\n",
    "\n"
   ]
  },
  {
   "cell_type": "markdown",
   "metadata": {},
   "source": [
    "A violin plot is a method of plotting numeric data. It is similar to box plot with a rotated kernel density plot on each side. Violin plots are similar to box plots, except that they also show the probability density of the data at different values (in the simplest case this could be a histogram)."
   ]
  },
  {
   "cell_type": "code",
   "execution_count": 14,
   "metadata": {},
   "outputs": [
    {
     "data": {
      "image/png": "[encoded data removed]",
      "text/plain": [
       "<matplotlib.figure.Figure at 0xb8fd1d0>"
      ]
     },
     "metadata": {},
     "output_type": "display_data"
    }
   ],
   "source": [
    "sns.violinplot(x=\"Churn\", y=\"tenure\", data=churn);"
   ]
  },
  {
   "cell_type": "code",
   "execution_count": 15,
   "metadata": {},
   "outputs": [
    {
     "data": {
      "image/png": "[encoded data removed]",
      "text/plain": [
       "<matplotlib.figure.Figure at 0xbf05a20>"
      ]
     },
     "metadata": {},
     "output_type": "display_data"
    }
   ],
   "source": [
    "sns.violinplot(x=\"Churn\", y=\"MonthlyCharges\", data=churn);"
   ]
  },
  {
   "cell_type": "code",
   "execution_count": 16,
   "metadata": {
    "scrolled": true
   },
   "outputs": [
    {
     "data": {
      "image/png": "[encoded data removed]",
      "text/plain": [
       "<matplotlib.figure.Figure at 0x7fe8dd8>"
      ]
     },
     "metadata": {},
     "output_type": "display_data"
    }
   ],
   "source": [
    "sns.violinplot(x=\"Churn\", y=\"TotalCharges\", data=churn);"
   ]
  },
  {
   "cell_type": "markdown",
   "metadata": {},
   "source": [
    "### Categorical analysis"
   ]
  },
  {
   "cell_type": "markdown",
   "metadata": {
    "scrolled": true
   },
   "source": [
    "Overview of the categorical plot"
   ]
  },
  {
   "cell_type": "code",
   "execution_count": 17,
   "metadata": {},
   "outputs": [
    {
     "data": {
      "text/plain": [
       "Index(['gender', 'SeniorCitizen', 'Partner', 'Dependents', 'PhoneService',\n",
       "       'MultipleLines', 'InternetService', 'OnlineSecurity', 'OnlineBackup',\n",
       "       'DeviceProtection', 'TechSupport', 'StreamingTV', 'StreamingMovies',\n",
       "       'Contract', 'PaperlessBilling', 'PaymentMethod'],\n",
       "      dtype='object')"
      ]
     },
     "execution_count": 17,
     "metadata": {},
     "output_type": "execute_result"
    }
   ],
   "source": [
    "z=len(objects_ds.columns)\n",
    "z\n",
    "objects_ds.columns[0:-1]"
   ]
  },
  {
   "cell_type": "code",
   "execution_count": 18,
   "metadata": {},
   "outputs": [
    {
     "data": {
      "image/png": "[encoded data removed]",
      "text/plain": [
       "<matplotlib.figure.Figure at 0xc298a20>"
      ]
     },
     "metadata": {},
     "output_type": "display_data"
    }
   ],
   "source": [
    "fig,ax =plt.subplots(4,4,figsize=(15,15))\n",
    "fig.subplots_adjust(hspace=.5)\n",
    "for i in range(0,16):\n",
    "    g = sns.countplot(x=objects_ds.iloc[:,i], hue=objects_ds[\"Churn\"], ax=ax[divmod(i,4)])\n",
    "    g.legend(bbox_to_anchor=(0., 1.02, 1., .102), loc=3, mode=\"expand\", borderaxespad=0.) if i==0 else g.legend_.remove()\n",
    "for tick in ax[3,3].get_xticklabels():\n",
    "    tick.set_rotation(45)"
   ]
  },
  {
   "cell_type": "code",
   "execution_count": 19,
   "metadata": {},
   "outputs": [
    {
     "name": "stdout",
     "output_type": "stream",
     "text": [
      "                  Churn\n",
      "gender Churn           \n",
      "Female No     73.040482\n",
      "       Yes    26.959518\n",
      "Male   No     73.795435\n",
      "       Yes    26.204565\n",
      "                         Churn\n",
      "SeniorCitizen Churn           \n",
      "0             No     76.349745\n",
      "              Yes    23.650255\n",
      "1             No     58.318739\n",
      "              Yes    41.681261\n",
      "                   Churn\n",
      "Partner Churn           \n",
      "No      No     67.023908\n",
      "        Yes    32.976092\n",
      "Yes     No     80.282935\n",
      "        Yes    19.717065\n",
      "                      Churn\n",
      "Dependents Churn           \n",
      "No         No     68.720860\n",
      "           Yes    31.279140\n",
      "Yes        No     84.468795\n",
      "           Yes    15.531205\n",
      "                        Churn\n",
      "PhoneService Churn           \n",
      "No           No     75.000000\n",
      "             Yes    25.000000\n",
      "Yes          No     73.252519\n",
      "             Yes    26.747481\n",
      "                            Churn\n",
      "MultipleLines    Churn           \n",
      "No               No     74.918759\n",
      "                 Yes    25.081241\n",
      "No phone service No     75.000000\n",
      "                 Yes    25.000000\n",
      "Yes              No     71.351534\n",
      "                 Yes    28.648466\n",
      "                           Churn\n",
      "InternetService Churn           \n",
      "DSL             No     81.001656\n",
      "                Yes    18.998344\n",
      "Fiber optic     No     58.107235\n",
      "                Yes    41.892765\n",
      "No              No     92.565789\n",
      "                Yes     7.434211\n",
      "                               Churn\n",
      "OnlineSecurity      Churn           \n",
      "No                  No     58.221333\n",
      "                    Yes    41.778667\n",
      "No internet service No     92.565789\n",
      "                    Yes     7.434211\n",
      "Yes                 No     85.359801\n",
      "                    Yes    14.640199\n",
      "                               Churn\n",
      "OnlineBackup        Churn           \n",
      "No                  No     60.058309\n",
      "                    Yes    39.941691\n",
      "No internet service No     92.565789\n",
      "                    Yes     7.434211\n",
      "Yes                 No     78.432990\n",
      "                    Yes    21.567010\n",
      "                               Churn\n",
      "DeviceProtection    Churn           \n",
      "No                  No     60.859729\n",
      "                    Yes    39.140271\n",
      "No internet service No     92.565789\n",
      "                    Yes     7.434211\n",
      "Yes                 No     77.460711\n",
      "                    Yes    22.539289\n",
      "                               Churn\n",
      "TechSupport         Churn           \n",
      "No                  No     58.352535\n",
      "                    Yes    41.647465\n",
      "No internet service No     92.565789\n",
      "                    Yes     7.434211\n",
      "Yes                 No     84.803922\n",
      "                    Yes    15.196078\n",
      "                               Churn\n",
      "StreamingTV         Churn           \n",
      "No                  No     66.464934\n",
      "                    Yes    33.535066\n",
      "No internet service No     92.565789\n",
      "                    Yes     7.434211\n",
      "Yes                 No     69.885313\n",
      "                    Yes    30.114687\n",
      "                               Churn\n",
      "StreamingMovies     Churn           \n",
      "No                  No     66.271125\n",
      "                    Yes    33.728875\n",
      "No internet service No     92.565789\n",
      "                    Yes     7.434211\n",
      "Yes                 No     70.047602\n",
      "                    Yes    29.952398\n",
      "                          Churn\n",
      "Contract       Churn           \n",
      "Month-to-month No     57.290323\n",
      "               Yes    42.709677\n",
      "One year       No     88.722826\n",
      "               Yes    11.277174\n",
      "Two year       No     97.151335\n",
      "               Yes     2.848665\n",
      "                            Churn\n",
      "PaperlessBilling Churn           \n",
      "No               No     83.624302\n",
      "                 Yes    16.375698\n",
      "Yes              No     66.410749\n",
      "                 Yes    33.589251\n",
      "                                     Churn\n",
      "PaymentMethod             Churn           \n",
      "Bank transfer (automatic) No     83.268482\n",
      "                          Yes    16.731518\n",
      "Credit card (automatic)   No     84.746877\n",
      "                          Yes    15.253123\n",
      "Electronic check          No     54.714588\n",
      "                          Yes    45.285412\n",
      "Mailed check              No     80.798005\n",
      "                          Yes    19.201995\n"
     ]
    },
    {
     "data": {
      "image/png": "[encoded data removed]",
      "text/plain": [
       "<matplotlib.figure.Figure at 0xbfa01d0>"
      ]
     },
     "metadata": {},
     "output_type": "display_data"
    },
    {
     "data": {
      "image/png": "[encoded data removed]",
      "text/plain": [
       "<matplotlib.figure.Figure at 0xb899ac8>"
      ]
     },
     "metadata": {},
     "output_type": "display_data"
    },
    {
     "data": {
      "image/png": "[encoded data removed]",
      "text/plain": [
       "<matplotlib.figure.Figure at 0xbbcabe0>"
      ]
     },
     "metadata": {},
     "output_type": "display_data"
    },
    {
     "data": {
      "image/png": "[encoded data removed]",
      "text/plain": [
       "<matplotlib.figure.Figure at 0xbb94b38>"
      ]
     },
     "metadata": {},
     "output_type": "display_data"
    },
    {
     "data": {
      "image/png": "[encoded data removed]",
      "text/plain": [
       "<matplotlib.figure.Figure at 0xcd2c9b0>"
      ]
     },
     "metadata": {},
     "output_type": "display_data"
    },
    {
     "data": {
      "image/png": "[encoded data removed]",
      "text/plain": [
       "<matplotlib.figure.Figure at 0xcd5d5f8>"
      ]
     },
     "metadata": {},
     "output_type": "display_data"
    },
    {
     "data": {
      "image/png": "[encoded data removed]",
      "text/plain": [
       "<matplotlib.figure.Figure at 0xca9f9b0>"
      ]
     },
     "metadata": {},
     "output_type": "display_data"
    },
    {
     "data": {
      "image/png": "[encoded data removed]",
      "text/plain": [
       "<matplotlib.figure.Figure at 0xcaaedd8>"
      ]
     },
     "metadata": {},
     "output_type": "display_data"
    },
    {
     "data": {
      "image/png": "[encoded data removed]",
      "text/plain": [
       "<matplotlib.figure.Figure at 0xcdc99b0>"
      ]
     },
     "metadata": {},
     "output_type": "display_data"
    },
    {
     "data": {
      "image/png": "[encoded data removed]",
      "text/plain": [
       "<matplotlib.figure.Figure at 0xca68320>"
      ]
     },
     "metadata": {},
     "output_type": "display_data"
    },
    {
     "data": {
      "image/png": "[encoded data removed]",
      "text/plain": [
       "<matplotlib.figure.Figure at 0xd3f08d0>"
      ]
     },
     "metadata": {},
     "output_type": "display_data"
    },
    {
     "data": {
      "image/png": "[encoded data removed]",
      "text/plain": [
       "<matplotlib.figure.Figure at 0xcd8c048>"
      ]
     },
     "metadata": {},
     "output_type": "display_data"
    },
    {
     "data": {
      "image/png": "[encoded data removed]",
      "text/plain": [
       "<matplotlib.figure.Figure at 0xd6d70f0>"
      ]
     },
     "metadata": {},
     "output_type": "display_data"
    },
    {
     "data": {
      "image/png": "[encoded data removed]",
      "text/plain": [
       "<matplotlib.figure.Figure at 0xd721f60>"
      ]
     },
     "metadata": {},
     "output_type": "display_data"
    },
    {
     "data": {
      "image/png": "[encoded data removed]",
      "text/plain": [
       "<matplotlib.figure.Figure at 0xd6d72b0>"
      ]
     },
     "metadata": {},
     "output_type": "display_data"
    },
    {
     "data": {
      "image/png": "[encoded data removed]",
      "text/plain": [
       "<matplotlib.figure.Figure at 0xd9f62e8>"
      ]
     },
     "metadata": {},
     "output_type": "display_data"
    }
   ],
   "source": [
    "z=objects_ds.columns[0:-1]\n",
    "\n",
    "for i in z:\n",
    "    df=churn.groupby([i,'Churn']).agg({'Churn':'count'})\n",
    "    test_percent=df.groupby(level=0).apply(lambda x: 100 * x / float(x.sum()))\n",
    "    print(test_percent)\n",
    "    test_percent.plot.bar()"
   ]
  },
  {
   "cell_type": "markdown",
   "metadata": {},
   "source": [
    "**Descriptive Analysis on the customer data ** \n",
    "1.Gender's percentage for male and female with no churn are similar at 76% while remaining 24% decide to change with other provider.  \n",
    "2.More than 80% of subsribers are coming from non-senior citizen. Over 20% from these non-senior citizen decided to churn.  \n",
    "3.90% from the registered customer subscribe to phone service.  \n",
    "\n",
    "**Meaningful pattern ** \n",
    "1.Customer with no phone services only interested to subscribe to plan between RM25 to RM55, compare with the phone services which prefer cheaper plan or more expensive plan.  \n",
    "2.Customer with more expensive plan have the highest probability to churn.  \n",
    "3.Having a long contract period are the most efficient way to retain customers.  \n",
    "4.Nearly 80% of customers are subscribing to Fiber Optic and DSL plan which the monthly charges are from RM30 to RM120 and the remaining 20% prefered to cheaper plan at RM20.But nearly half of Fiber Optic subscribers highly choose to changes to other service provider.  \n",
    "5.Almost 40% of customer tend to choose Movie package with TV package in their subscribing plan. However, they are really concern with the quality of the services which 1 of 3rd may churn to other provide.  \n",
    "6.Majority (33%) of customers preffered to pay their bill via electronic check compared with other facilities.   futhermore, these type of customer also are the most probability to churn. \n"
   ]
  },
  {
   "cell_type": "markdown",
   "metadata": {},
   "source": [
    "## Prediction analytic"
   ]
  },
  {
   "cell_type": "markdown",
   "metadata": {},
   "source": [
    "### ML without numeric binning"
   ]
  },
  {
   "cell_type": "code",
   "execution_count": 20,
   "metadata": {},
   "outputs": [],
   "source": [
    "data=churn\n",
    "for i in list(data.columns):\n",
    "    data[i] = pd.Categorical(data[i]) # Convert all the variables into categorical\n",
    "dummy = pd.get_dummies(data) # Transform the categorical variables into binary vectors"
   ]
  },
  {
   "cell_type": "code",
   "execution_count": 21,
   "metadata": {},
   "outputs": [
    {
     "data": {
      "text/html": [
       "<div>\n",
       "<style scoped>\n",
       "    .dataframe tbody tr th:only-of-type {\n",
       "        vertical-align: middle;\n",
       "    }\n",
       "\n",
       "    .dataframe tbody tr th {\n",
       "        vertical-align: top;\n",
       "    }\n",
       "\n",
       "    .dataframe thead th {\n",
       "        text-align: right;\n",
       "    }\n",
       "</style>\n",
       "<table border=\"1\" class=\"dataframe\">\n",
       "  <thead>\n",
       "    <tr style=\"text-align: right;\">\n",
       "      <th></th>\n",
       "      <th>gender_Female</th>\n",
       "      <th>gender_Male</th>\n",
       "      <th>SeniorCitizen_0</th>\n",
       "      <th>SeniorCitizen_1</th>\n",
       "      <th>Partner_No</th>\n",
       "      <th>Partner_Yes</th>\n",
       "      <th>Dependents_No</th>\n",
       "      <th>Dependents_Yes</th>\n",
       "      <th>tenure_1</th>\n",
       "      <th>tenure_2</th>\n",
       "      <th>...</th>\n",
       "      <th>TotalCharges_8529.5</th>\n",
       "      <th>TotalCharges_8543.25</th>\n",
       "      <th>TotalCharges_8547.15</th>\n",
       "      <th>TotalCharges_8564.75</th>\n",
       "      <th>TotalCharges_8594.4</th>\n",
       "      <th>TotalCharges_8670.1</th>\n",
       "      <th>TotalCharges_8672.45</th>\n",
       "      <th>TotalCharges_8684.8</th>\n",
       "      <th>Churn_No</th>\n",
       "      <th>Churn_Yes</th>\n",
       "    </tr>\n",
       "  </thead>\n",
       "  <tbody>\n",
       "    <tr>\n",
       "      <th>0</th>\n",
       "      <td>1</td>\n",
       "      <td>0</td>\n",
       "      <td>1</td>\n",
       "      <td>0</td>\n",
       "      <td>0</td>\n",
       "      <td>1</td>\n",
       "      <td>1</td>\n",
       "      <td>0</td>\n",
       "      <td>1</td>\n",
       "      <td>0</td>\n",
       "      <td>...</td>\n",
       "      <td>0</td>\n",
       "      <td>0</td>\n",
       "      <td>0</td>\n",
       "      <td>0</td>\n",
       "      <td>0</td>\n",
       "      <td>0</td>\n",
       "      <td>0</td>\n",
       "      <td>0</td>\n",
       "      <td>1</td>\n",
       "      <td>0</td>\n",
       "    </tr>\n",
       "    <tr>\n",
       "      <th>1</th>\n",
       "      <td>0</td>\n",
       "      <td>1</td>\n",
       "      <td>1</td>\n",
       "      <td>0</td>\n",
       "      <td>1</td>\n",
       "      <td>0</td>\n",
       "      <td>1</td>\n",
       "      <td>0</td>\n",
       "      <td>0</td>\n",
       "      <td>0</td>\n",
       "      <td>...</td>\n",
       "      <td>0</td>\n",
       "      <td>0</td>\n",
       "      <td>0</td>\n",
       "      <td>0</td>\n",
       "      <td>0</td>\n",
       "      <td>0</td>\n",
       "      <td>0</td>\n",
       "      <td>0</td>\n",
       "      <td>1</td>\n",
       "      <td>0</td>\n",
       "    </tr>\n",
       "    <tr>\n",
       "      <th>2</th>\n",
       "      <td>0</td>\n",
       "      <td>1</td>\n",
       "      <td>1</td>\n",
       "      <td>0</td>\n",
       "      <td>1</td>\n",
       "      <td>0</td>\n",
       "      <td>1</td>\n",
       "      <td>0</td>\n",
       "      <td>0</td>\n",
       "      <td>1</td>\n",
       "      <td>...</td>\n",
       "      <td>0</td>\n",
       "      <td>0</td>\n",
       "      <td>0</td>\n",
       "      <td>0</td>\n",
       "      <td>0</td>\n",
       "      <td>0</td>\n",
       "      <td>0</td>\n",
       "      <td>0</td>\n",
       "      <td>0</td>\n",
       "      <td>1</td>\n",
       "    </tr>\n",
       "    <tr>\n",
       "      <th>3</th>\n",
       "      <td>0</td>\n",
       "      <td>1</td>\n",
       "      <td>1</td>\n",
       "      <td>0</td>\n",
       "      <td>1</td>\n",
       "      <td>0</td>\n",
       "      <td>1</td>\n",
       "      <td>0</td>\n",
       "      <td>0</td>\n",
       "      <td>0</td>\n",
       "      <td>...</td>\n",
       "      <td>0</td>\n",
       "      <td>0</td>\n",
       "      <td>0</td>\n",
       "      <td>0</td>\n",
       "      <td>0</td>\n",
       "      <td>0</td>\n",
       "      <td>0</td>\n",
       "      <td>0</td>\n",
       "      <td>1</td>\n",
       "      <td>0</td>\n",
       "    </tr>\n",
       "    <tr>\n",
       "      <th>4</th>\n",
       "      <td>1</td>\n",
       "      <td>0</td>\n",
       "      <td>1</td>\n",
       "      <td>0</td>\n",
       "      <td>1</td>\n",
       "      <td>0</td>\n",
       "      <td>1</td>\n",
       "      <td>0</td>\n",
       "      <td>0</td>\n",
       "      <td>1</td>\n",
       "      <td>...</td>\n",
       "      <td>0</td>\n",
       "      <td>0</td>\n",
       "      <td>0</td>\n",
       "      <td>0</td>\n",
       "      <td>0</td>\n",
       "      <td>0</td>\n",
       "      <td>0</td>\n",
       "      <td>0</td>\n",
       "      <td>0</td>\n",
       "      <td>1</td>\n",
       "    </tr>\n",
       "  </tbody>\n",
       "</table>\n",
       "<p>5 rows × 8231 columns</p>\n",
       "</div>"
      ],
      "text/plain": [
       "   gender_Female  gender_Male  SeniorCitizen_0  SeniorCitizen_1  Partner_No  \\\n",
       "0              1            0                1                0           0   \n",
       "1              0            1                1                0           1   \n",
       "2              0            1                1                0           1   \n",
       "3              0            1                1                0           1   \n",
       "4              1            0                1                0           1   \n",
       "\n",
       "   Partner_Yes  Dependents_No  Dependents_Yes  tenure_1  tenure_2    ...      \\\n",
       "0            1              1               0         1         0    ...       \n",
       "1            0              1               0         0         0    ...       \n",
       "2            0              1               0         0         1    ...       \n",
       "3            0              1               0         0         0    ...       \n",
       "4            0              1               0         0         1    ...       \n",
       "\n",
       "   TotalCharges_8529.5  TotalCharges_8543.25  TotalCharges_8547.15  \\\n",
       "0                    0                     0                     0   \n",
       "1                    0                     0                     0   \n",
       "2                    0                     0                     0   \n",
       "3                    0                     0                     0   \n",
       "4                    0                     0                     0   \n",
       "\n",
       "   TotalCharges_8564.75  TotalCharges_8594.4  TotalCharges_8670.1  \\\n",
       "0                     0                    0                    0   \n",
       "1                     0                    0                    0   \n",
       "2                     0                    0                    0   \n",
       "3                     0                    0                    0   \n",
       "4                     0                    0                    0   \n",
       "\n",
       "   TotalCharges_8672.45  TotalCharges_8684.8  Churn_No  Churn_Yes  \n",
       "0                     0                    0         1          0  \n",
       "1                     0                    0         1          0  \n",
       "2                     0                    0         0          1  \n",
       "3                     0                    0         1          0  \n",
       "4                     0                    0         0          1  \n",
       "\n",
       "[5 rows x 8231 columns]"
      ]
     },
     "execution_count": 21,
     "metadata": {},
     "output_type": "execute_result"
    }
   ],
   "source": [
    "dummy.head(5)"
   ]
  },
  {
   "cell_type": "code",
   "execution_count": 22,
   "metadata": {},
   "outputs": [],
   "source": [
    "#bin=pd.cut(numeric_ds)"
   ]
  },
  {
   "cell_type": "code",
   "execution_count": 23,
   "metadata": {},
   "outputs": [
    {
     "name": "stdout",
     "output_type": "stream",
     "text": [
      "KNN score: 0.765625\n",
      "LogisticRegression score: 0.769886\n"
     ]
    }
   ],
   "source": [
    "#result without binning the data\n",
    "import numpy as np\n",
    "import matplotlib.pyplot as plt\n",
    "from sklearn import linear_model\n",
    "from sklearn import neighbors\n",
    "\n",
    "features = dummy.drop([\"Churn_Yes\", \"Churn_No\"], axis=1).columns\n",
    "X = dummy[features].values\n",
    "Y = dummy[\"Churn_Yes\"].values\n",
    "h = 0.2 #steps in the mseh\n",
    "\n",
    "np.random.seed(0)\n",
    "indices = np.random.permutation(len(X))\n",
    "n_samples=len(X)\n",
    "X_train = X[indices[:int(.9 * n_samples)]]\n",
    "y_train = Y[indices[:int(.9 * n_samples)]]\n",
    "X_test = X[indices[int(.9 * n_samples):]]\n",
    "y_test = Y[indices[int(.9 * n_samples):]]\n",
    "\n",
    "knn = neighbors.KNeighborsClassifier(n_neighbors=10)\n",
    "logreg = linear_model.LogisticRegression(C=1e5)\n",
    "\n",
    "# we create an instance of Neighbours Classifier and fit the data.\n",
    "#logreg.fit(X, Y)\n",
    "\n",
    "\n",
    "print('KNN score: %f' % knn.fit(X_train, y_train).score(X_test, y_test))\n",
    "print('LogisticRegression score: %f' % logreg.fit(X_train, y_train).score(X_test, y_test))"
   ]
  },
  {
   "cell_type": "code",
   "execution_count": 24,
   "metadata": {},
   "outputs": [
    {
     "name": "stdout",
     "output_type": "stream",
     "text": [
      "KNN MSE:  0.234375\n",
      "LR MSE:  0.23011363636363635\n"
     ]
    }
   ],
   "source": [
    "## mse KNN\n",
    "y_pred = knn.predict(X_test)\n",
    "y_true = y_test\n",
    "from sklearn.metrics import mean_squared_error\n",
    "result_mse = mean_squared_error(y_true, y_pred)\n",
    "print('KNN MSE: ', + result_mse)\n",
    "\n",
    "## mse LR\n",
    "y_pred = logreg.predict(X_test)\n",
    "y_true = y_test\n",
    "from sklearn.metrics import mean_squared_error\n",
    "result_mse = mean_squared_error(y_true, y_pred)\n",
    "print('LR MSE: ', + result_mse)"
   ]
  },
  {
   "cell_type": "markdown",
   "metadata": {},
   "source": [
    "### ML with numeric binning"
   ]
  },
  {
   "cell_type": "code",
   "execution_count": 25,
   "metadata": {},
   "outputs": [
    {
     "data": {
      "text/html": [
       "<div>\n",
       "<style scoped>\n",
       "    .dataframe tbody tr th:only-of-type {\n",
       "        vertical-align: middle;\n",
       "    }\n",
       "\n",
       "    .dataframe tbody tr th {\n",
       "        vertical-align: top;\n",
       "    }\n",
       "\n",
       "    .dataframe thead th {\n",
       "        text-align: right;\n",
       "    }\n",
       "</style>\n",
       "<table border=\"1\" class=\"dataframe\">\n",
       "  <thead>\n",
       "    <tr style=\"text-align: right;\">\n",
       "      <th></th>\n",
       "      <th>tenure</th>\n",
       "      <th>MonthlyCharges</th>\n",
       "      <th>TotalCharges</th>\n",
       "      <th>gender</th>\n",
       "      <th>SeniorCitizen</th>\n",
       "      <th>Partner</th>\n",
       "      <th>Dependents</th>\n",
       "      <th>PhoneService</th>\n",
       "      <th>MultipleLines</th>\n",
       "      <th>InternetService</th>\n",
       "      <th>OnlineSecurity</th>\n",
       "      <th>OnlineBackup</th>\n",
       "      <th>DeviceProtection</th>\n",
       "      <th>TechSupport</th>\n",
       "      <th>StreamingTV</th>\n",
       "      <th>StreamingMovies</th>\n",
       "      <th>Contract</th>\n",
       "      <th>PaperlessBilling</th>\n",
       "      <th>PaymentMethod</th>\n",
       "      <th>Churn</th>\n",
       "    </tr>\n",
       "  </thead>\n",
       "  <tbody>\n",
       "    <tr>\n",
       "      <th>0</th>\n",
       "      <td>low</td>\n",
       "      <td>low</td>\n",
       "      <td>low</td>\n",
       "      <td>Female</td>\n",
       "      <td>0</td>\n",
       "      <td>Yes</td>\n",
       "      <td>No</td>\n",
       "      <td>No</td>\n",
       "      <td>No phone service</td>\n",
       "      <td>DSL</td>\n",
       "      <td>No</td>\n",
       "      <td>Yes</td>\n",
       "      <td>No</td>\n",
       "      <td>No</td>\n",
       "      <td>No</td>\n",
       "      <td>No</td>\n",
       "      <td>Month-to-month</td>\n",
       "      <td>Yes</td>\n",
       "      <td>Electronic check</td>\n",
       "      <td>No</td>\n",
       "    </tr>\n",
       "    <tr>\n",
       "      <th>1</th>\n",
       "      <td>medium</td>\n",
       "      <td>medium</td>\n",
       "      <td>medium</td>\n",
       "      <td>Male</td>\n",
       "      <td>0</td>\n",
       "      <td>No</td>\n",
       "      <td>No</td>\n",
       "      <td>Yes</td>\n",
       "      <td>No</td>\n",
       "      <td>DSL</td>\n",
       "      <td>Yes</td>\n",
       "      <td>No</td>\n",
       "      <td>Yes</td>\n",
       "      <td>No</td>\n",
       "      <td>No</td>\n",
       "      <td>No</td>\n",
       "      <td>One year</td>\n",
       "      <td>No</td>\n",
       "      <td>Mailed check</td>\n",
       "      <td>No</td>\n",
       "    </tr>\n",
       "    <tr>\n",
       "      <th>2</th>\n",
       "      <td>low</td>\n",
       "      <td>medium</td>\n",
       "      <td>low</td>\n",
       "      <td>Male</td>\n",
       "      <td>0</td>\n",
       "      <td>No</td>\n",
       "      <td>No</td>\n",
       "      <td>Yes</td>\n",
       "      <td>No</td>\n",
       "      <td>DSL</td>\n",
       "      <td>Yes</td>\n",
       "      <td>Yes</td>\n",
       "      <td>No</td>\n",
       "      <td>No</td>\n",
       "      <td>No</td>\n",
       "      <td>No</td>\n",
       "      <td>Month-to-month</td>\n",
       "      <td>Yes</td>\n",
       "      <td>Mailed check</td>\n",
       "      <td>Yes</td>\n",
       "    </tr>\n",
       "    <tr>\n",
       "      <th>3</th>\n",
       "      <td>medium</td>\n",
       "      <td>medium</td>\n",
       "      <td>medium</td>\n",
       "      <td>Male</td>\n",
       "      <td>0</td>\n",
       "      <td>No</td>\n",
       "      <td>No</td>\n",
       "      <td>No</td>\n",
       "      <td>No phone service</td>\n",
       "      <td>DSL</td>\n",
       "      <td>Yes</td>\n",
       "      <td>No</td>\n",
       "      <td>Yes</td>\n",
       "      <td>Yes</td>\n",
       "      <td>No</td>\n",
       "      <td>No</td>\n",
       "      <td>One year</td>\n",
       "      <td>No</td>\n",
       "      <td>Bank transfer (automatic)</td>\n",
       "      <td>No</td>\n",
       "    </tr>\n",
       "    <tr>\n",
       "      <th>4</th>\n",
       "      <td>low</td>\n",
       "      <td>high</td>\n",
       "      <td>low</td>\n",
       "      <td>Female</td>\n",
       "      <td>0</td>\n",
       "      <td>No</td>\n",
       "      <td>No</td>\n",
       "      <td>Yes</td>\n",
       "      <td>No</td>\n",
       "      <td>Fiber optic</td>\n",
       "      <td>No</td>\n",
       "      <td>No</td>\n",
       "      <td>No</td>\n",
       "      <td>No</td>\n",
       "      <td>No</td>\n",
       "      <td>No</td>\n",
       "      <td>Month-to-month</td>\n",
       "      <td>Yes</td>\n",
       "      <td>Electronic check</td>\n",
       "      <td>Yes</td>\n",
       "    </tr>\n",
       "  </tbody>\n",
       "</table>\n",
       "</div>"
      ],
      "text/plain": [
       "   tenure MonthlyCharges TotalCharges  gender SeniorCitizen Partner  \\\n",
       "0     low            low          low  Female             0     Yes   \n",
       "1  medium         medium       medium    Male             0      No   \n",
       "2     low         medium          low    Male             0      No   \n",
       "3  medium         medium       medium    Male             0      No   \n",
       "4     low           high          low  Female             0      No   \n",
       "\n",
       "  Dependents PhoneService     MultipleLines InternetService OnlineSecurity  \\\n",
       "0         No           No  No phone service             DSL             No   \n",
       "1         No          Yes                No             DSL            Yes   \n",
       "2         No          Yes                No             DSL            Yes   \n",
       "3         No           No  No phone service             DSL            Yes   \n",
       "4         No          Yes                No     Fiber optic             No   \n",
       "\n",
       "  OnlineBackup DeviceProtection TechSupport StreamingTV StreamingMovies  \\\n",
       "0          Yes               No          No          No              No   \n",
       "1           No              Yes          No          No              No   \n",
       "2          Yes               No          No          No              No   \n",
       "3           No              Yes         Yes          No              No   \n",
       "4           No               No          No          No              No   \n",
       "\n",
       "         Contract PaperlessBilling              PaymentMethod Churn  \n",
       "0  Month-to-month              Yes           Electronic check    No  \n",
       "1        One year               No               Mailed check    No  \n",
       "2  Month-to-month              Yes               Mailed check   Yes  \n",
       "3        One year               No  Bank transfer (automatic)    No  \n",
       "4  Month-to-month              Yes           Electronic check   Yes  "
      ]
     },
     "execution_count": 25,
     "metadata": {},
     "output_type": "execute_result"
    },
    {
     "data": {
      "image/png": "[encoded data removed]",
      "text/plain": [
       "<matplotlib.figure.Figure at 0xb899588>"
      ]
     },
     "metadata": {},
     "output_type": "display_data"
    }
   ],
   "source": [
    "tenure_bins=pd.cut(numeric_ds[\"tenure\"], bins=[0,20,60,80], labels=['low','medium','high'])\n",
    "MonthlyCharges_bins=pd.cut(numeric_ds[\"MonthlyCharges\"], bins=[0,35,60,130], labels=['low','medium','high'])\n",
    "TotalCharges_bins=pd.cut(numeric_ds[\"TotalCharges\"], bins=[0,1000,4000,10000], labels=['low','medium','high'])\n",
    "\n",
    "fig, axs = plt.subplots(ncols=3)\n",
    "sns.countplot(x=tenure_bins, hue=\"Churn\", data=churn, palette=\"Greens_d\",ax=axs[0])\n",
    "sns.countplot(x=MonthlyCharges_bins, hue=\"Churn\", data=churn, palette=\"Greens_d\",ax=axs[1])\n",
    "sns.countplot(x=TotalCharges_bins, hue=\"Churn\", data=churn, palette=\"Greens_d\",ax=axs[2])\n",
    "fig.tight_layout()\n",
    "fig.subplots_adjust(right = 2)\n",
    "\n",
    "data=pd.concat([tenure_bins,MonthlyCharges_bins,TotalCharges_bins,objects_ds],axis=1) \n",
    "data.head(5)"
   ]
  },
  {
   "cell_type": "code",
   "execution_count": 26,
   "metadata": {},
   "outputs": [],
   "source": [
    "for i in list(data.columns):\n",
    "    data[i] = pd.Categorical(data[i]) # Convert all the variables into categorical\n",
    "dummy = pd.get_dummies(data) # Transform the categorical variables into binary vectors"
   ]
  },
  {
   "cell_type": "code",
   "execution_count": 27,
   "metadata": {},
   "outputs": [
    {
     "data": {
      "text/html": [
       "<div>\n",
       "<style scoped>\n",
       "    .dataframe tbody tr th:only-of-type {\n",
       "        vertical-align: middle;\n",
       "    }\n",
       "\n",
       "    .dataframe tbody tr th {\n",
       "        vertical-align: top;\n",
       "    }\n",
       "\n",
       "    .dataframe thead th {\n",
       "        text-align: right;\n",
       "    }\n",
       "</style>\n",
       "<table border=\"1\" class=\"dataframe\">\n",
       "  <thead>\n",
       "    <tr style=\"text-align: right;\">\n",
       "      <th></th>\n",
       "      <th>tenure_low</th>\n",
       "      <th>tenure_medium</th>\n",
       "      <th>tenure_high</th>\n",
       "      <th>MonthlyCharges_low</th>\n",
       "      <th>MonthlyCharges_medium</th>\n",
       "      <th>MonthlyCharges_high</th>\n",
       "      <th>TotalCharges_low</th>\n",
       "      <th>TotalCharges_medium</th>\n",
       "      <th>TotalCharges_high</th>\n",
       "      <th>gender_Female</th>\n",
       "      <th>...</th>\n",
       "      <th>Contract_One year</th>\n",
       "      <th>Contract_Two year</th>\n",
       "      <th>PaperlessBilling_No</th>\n",
       "      <th>PaperlessBilling_Yes</th>\n",
       "      <th>PaymentMethod_Bank transfer (automatic)</th>\n",
       "      <th>PaymentMethod_Credit card (automatic)</th>\n",
       "      <th>PaymentMethod_Electronic check</th>\n",
       "      <th>PaymentMethod_Mailed check</th>\n",
       "      <th>Churn_No</th>\n",
       "      <th>Churn_Yes</th>\n",
       "    </tr>\n",
       "  </thead>\n",
       "  <tbody>\n",
       "    <tr>\n",
       "      <th>0</th>\n",
       "      <td>1</td>\n",
       "      <td>0</td>\n",
       "      <td>0</td>\n",
       "      <td>1</td>\n",
       "      <td>0</td>\n",
       "      <td>0</td>\n",
       "      <td>1</td>\n",
       "      <td>0</td>\n",
       "      <td>0</td>\n",
       "      <td>1</td>\n",
       "      <td>...</td>\n",
       "      <td>0</td>\n",
       "      <td>0</td>\n",
       "      <td>0</td>\n",
       "      <td>1</td>\n",
       "      <td>0</td>\n",
       "      <td>0</td>\n",
       "      <td>1</td>\n",
       "      <td>0</td>\n",
       "      <td>1</td>\n",
       "      <td>0</td>\n",
       "    </tr>\n",
       "    <tr>\n",
       "      <th>1</th>\n",
       "      <td>0</td>\n",
       "      <td>1</td>\n",
       "      <td>0</td>\n",
       "      <td>0</td>\n",
       "      <td>1</td>\n",
       "      <td>0</td>\n",
       "      <td>0</td>\n",
       "      <td>1</td>\n",
       "      <td>0</td>\n",
       "      <td>0</td>\n",
       "      <td>...</td>\n",
       "      <td>1</td>\n",
       "      <td>0</td>\n",
       "      <td>1</td>\n",
       "      <td>0</td>\n",
       "      <td>0</td>\n",
       "      <td>0</td>\n",
       "      <td>0</td>\n",
       "      <td>1</td>\n",
       "      <td>1</td>\n",
       "      <td>0</td>\n",
       "    </tr>\n",
       "    <tr>\n",
       "      <th>2</th>\n",
       "      <td>1</td>\n",
       "      <td>0</td>\n",
       "      <td>0</td>\n",
       "      <td>0</td>\n",
       "      <td>1</td>\n",
       "      <td>0</td>\n",
       "      <td>1</td>\n",
       "      <td>0</td>\n",
       "      <td>0</td>\n",
       "      <td>0</td>\n",
       "      <td>...</td>\n",
       "      <td>0</td>\n",
       "      <td>0</td>\n",
       "      <td>0</td>\n",
       "      <td>1</td>\n",
       "      <td>0</td>\n",
       "      <td>0</td>\n",
       "      <td>0</td>\n",
       "      <td>1</td>\n",
       "      <td>0</td>\n",
       "      <td>1</td>\n",
       "    </tr>\n",
       "    <tr>\n",
       "      <th>3</th>\n",
       "      <td>0</td>\n",
       "      <td>1</td>\n",
       "      <td>0</td>\n",
       "      <td>0</td>\n",
       "      <td>1</td>\n",
       "      <td>0</td>\n",
       "      <td>0</td>\n",
       "      <td>1</td>\n",
       "      <td>0</td>\n",
       "      <td>0</td>\n",
       "      <td>...</td>\n",
       "      <td>1</td>\n",
       "      <td>0</td>\n",
       "      <td>1</td>\n",
       "      <td>0</td>\n",
       "      <td>1</td>\n",
       "      <td>0</td>\n",
       "      <td>0</td>\n",
       "      <td>0</td>\n",
       "      <td>1</td>\n",
       "      <td>0</td>\n",
       "    </tr>\n",
       "    <tr>\n",
       "      <th>4</th>\n",
       "      <td>1</td>\n",
       "      <td>0</td>\n",
       "      <td>0</td>\n",
       "      <td>0</td>\n",
       "      <td>0</td>\n",
       "      <td>1</td>\n",
       "      <td>1</td>\n",
       "      <td>0</td>\n",
       "      <td>0</td>\n",
       "      <td>1</td>\n",
       "      <td>...</td>\n",
       "      <td>0</td>\n",
       "      <td>0</td>\n",
       "      <td>0</td>\n",
       "      <td>1</td>\n",
       "      <td>0</td>\n",
       "      <td>0</td>\n",
       "      <td>1</td>\n",
       "      <td>0</td>\n",
       "      <td>0</td>\n",
       "      <td>1</td>\n",
       "    </tr>\n",
       "  </tbody>\n",
       "</table>\n",
       "<p>5 rows × 54 columns</p>\n",
       "</div>"
      ],
      "text/plain": [
       "   tenure_low  tenure_medium  tenure_high  MonthlyCharges_low  \\\n",
       "0           1              0            0                   1   \n",
       "1           0              1            0                   0   \n",
       "2           1              0            0                   0   \n",
       "3           0              1            0                   0   \n",
       "4           1              0            0                   0   \n",
       "\n",
       "   MonthlyCharges_medium  MonthlyCharges_high  TotalCharges_low  \\\n",
       "0                      0                    0                 1   \n",
       "1                      1                    0                 0   \n",
       "2                      1                    0                 1   \n",
       "3                      1                    0                 0   \n",
       "4                      0                    1                 1   \n",
       "\n",
       "   TotalCharges_medium  TotalCharges_high  gender_Female    ...      \\\n",
       "0                    0                  0              1    ...       \n",
       "1                    1                  0              0    ...       \n",
       "2                    0                  0              0    ...       \n",
       "3                    1                  0              0    ...       \n",
       "4                    0                  0              1    ...       \n",
       "\n",
       "   Contract_One year  Contract_Two year  PaperlessBilling_No  \\\n",
       "0                  0                  0                    0   \n",
       "1                  1                  0                    1   \n",
       "2                  0                  0                    0   \n",
       "3                  1                  0                    1   \n",
       "4                  0                  0                    0   \n",
       "\n",
       "   PaperlessBilling_Yes  PaymentMethod_Bank transfer (automatic)  \\\n",
       "0                     1                                        0   \n",
       "1                     0                                        0   \n",
       "2                     1                                        0   \n",
       "3                     0                                        1   \n",
       "4                     1                                        0   \n",
       "\n",
       "   PaymentMethod_Credit card (automatic)  PaymentMethod_Electronic check  \\\n",
       "0                                      0                               1   \n",
       "1                                      0                               0   \n",
       "2                                      0                               0   \n",
       "3                                      0                               0   \n",
       "4                                      0                               1   \n",
       "\n",
       "   PaymentMethod_Mailed check  Churn_No  Churn_Yes  \n",
       "0                           0         1          0  \n",
       "1                           1         1          0  \n",
       "2                           1         0          1  \n",
       "3                           0         1          0  \n",
       "4                           0         0          1  \n",
       "\n",
       "[5 rows x 54 columns]"
      ]
     },
     "execution_count": 27,
     "metadata": {},
     "output_type": "execute_result"
    }
   ],
   "source": [
    "dummy.head(5)"
   ]
  },
  {
   "cell_type": "code",
   "execution_count": 28,
   "metadata": {},
   "outputs": [
    {
     "name": "stdout",
     "output_type": "stream",
     "text": [
      "0.17213183023736564\n",
      "0.050053506248053464\n"
     ]
    }
   ],
   "source": [
    "#result binning the data\n",
    "import numpy as np\n",
    "import matplotlib.pyplot as plt\n",
    "from sklearn import linear_model\n",
    "from sklearn import neighbors\n",
    "from timeit import default_timer as timer\n",
    "\n",
    "\n",
    "features = dummy.drop([\"Churn_Yes\", \"Churn_No\"], axis=1).columns\n",
    "X = dummy[features].values\n",
    "Y = dummy[\"Churn_Yes\"].values\n",
    "h = 0.2 #steps in the mseh\n",
    "\n",
    "np.random.seed(0)\n",
    "indices = np.random.permutation(len(X))\n",
    "n_samples=len(X)\n",
    "X_train = X[indices[:int(.9 * n_samples)]]\n",
    "y_train = Y[indices[:int(.9 * n_samples)]]\n",
    "X_test = X[indices[int(.9 * n_samples):]]\n",
    "y_test = Y[indices[int(.9 * n_samples):]]\n",
    "\n",
    "start = timer()\n",
    "knn = neighbors.KNeighborsClassifier(n_neighbors=10)\n",
    "knn.fit(X_train, y_train)\n",
    "end = timer()\n",
    "print(end - start)\n",
    "\n",
    "start = timer()\n",
    "logreg = linear_model.LogisticRegression(C=1e5)\n",
    "logreg.fit(X_train, y_train)\n",
    "end = timer()\n",
    "print(end - start)\n",
    "\n",
    "e create an instance of Neighbours Classifier and fit the data.\n",
    "#logreg.fit(X, Y)\n",
    "\n",
    "\n",
    "#print('KNN score: %f' % knn.fit(X_train, y_train).score(X_test, y_test))\n",
    "#print('LogisticRegression score: %f' % logreg.fit(X_train, y_train).score(X_test, y_test))\n",
    "\n",
    "\n",
    "\n"
   ]
  },
  {
   "cell_type": "code",
   "execution_count": 29,
   "metadata": {},
   "outputs": [
    {
     "name": "stdout",
     "output_type": "stream",
     "text": [
      "KNN MSE:  0.234375\n",
      "LR MSE:  0.19602272727272727\n"
     ]
    }
   ],
   "source": [
    "## mse KNN\n",
    "y_pred = knn.predict(X_test)\n",
    "y_true = y_test\n",
    "from sklearn.metrics import mean_squared_error\n",
    "result_mse = mean_squared_error(y_true, y_pred)\n",
    "print('KNN MSE: ', + result_mse)\n",
    "\n",
    "## mse LR\n",
    "y_pred = logreg.predict(X_test)\n",
    "y_true = y_test\n",
    "from sklearn.metrics import mean_squared_error\n",
    "result_mse = mean_squared_error(y_true, y_pred)\n",
    "print('LR MSE: ', + result_mse)"
   ]
  },
  {
   "cell_type": "code",
   "execution_count": 30,
   "metadata": {},
   "outputs": [
    {
     "data": {
      "text/plain": [
       "['LR_churn.pkl']"
      ]
     },
     "execution_count": 30,
     "metadata": {},
     "output_type": "execute_result"
    }
   ],
   "source": [
    "from sklearn.externals import joblib\n",
    "joblib.dump(logreg, 'LR_churn.pkl')"
   ]
  },
  {
   "cell_type": "markdown",
   "metadata": {},
   "source": [
    "## Summarize finding"
   ]
  },
  {
   "cell_type": "markdown",
   "metadata": {},
   "source": [
    "**Summarize Finding  **\n",
    "The highest churn rate categories are customers who tend to be ones who are on a month-to-month contract, have fiber optic internet service, and customer made payment with Electronic cheques.  \n",
    "\n",
    "In order to reduce or minimize churn rate we need to do the following action items:  \n",
    "1) Need to maintain and improvised existing package plan which are intermediate subscription plan between  25 − 55 and long contract period customer. This can be done by offering short term Value Added Service at no extra cost i.e free additional dataplan, streamingtv, streaming movies. These items are inter-related since they have more dataplan then they can do more tv and movie streaming  \n",
    "2) Convert any short term subscription plan to long term subscription plan by offering proper incentives i.e. free 20GB data plan for 1 year period  \n",
    "3) Reduce dependecies on electronic cheque payment instead focus on the other three payment method which are mail cheque, bank transfer and credit card or create more awareness program for customers to used easier payment methods other than electronic cheque  \n",
    "4) To reduce churn rate of acquiring new customers, we would introduce Sales Intelligent System whereby the system is able to predict suitable mobile plan based on the existing data  "
   ]
  },
  {
   "cell_type": "markdown",
   "metadata": {},
   "source": [
    "## Reference"
   ]
  },
  {
   "cell_type": "markdown",
   "metadata": {},
   "source": [
    "http://scikit-learn.org/stable/auto_examples/exercises/plot_digits_classification_exercise.html#sphx-glr-auto-examples-exercises-plot-digits-classification-exercise-py\n",
    "http://blog.minitab.com/blog/statistics-and-quality-data-analysis/what-are-t-values-and-p-values-in-statistics\n",
    "https://lwmachinelearning.wordpress.com/portfolio/customer-churn-analysis/  \n",
    "https://machinelearningmastery.com/compare-machine-learning-algorithms-python-scikit-learn/  \n",
    "https://machinelearningmastery.com/metrics-evaluate-machine-learning-algorithms-python/  \n",
    "http://scikit-learn.org/stable/auto_examples/classification/plot_classifier_comparison.html  \n",
    "\n"
   ]
  },
  {
   "cell_type": "code",
   "execution_count": null,
   "metadata": {},
   "outputs": [],
   "source": []
  }
 ],
 "metadata": {
  "kernelspec": {
   "display_name": "Python 3",
   "language": "python",
   "name": "python3"
  },
  "language_info": {
   "codemirror_mode": {
    "name": "ipython",
    "version": 3
   },
   "file_extension": ".py",
   "mimetype": "text/x-python",
   "name": "python",
   "nbconvert_exporter": "python",
   "pygments_lexer": "ipython3",
   "version": "3.5.5"
  }
 },
 "nbformat": 4,
 "nbformat_minor": 1
}
