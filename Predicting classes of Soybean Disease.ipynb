{
 "cells": [
  {
   "cell_type": "markdown",
   "metadata": {},
   "source": [
    "# Group name : Spritzer"
   ]
  },
  {
   "cell_type": "markdown",
   "metadata": {},
   "source": [
    "Soybean Disease Diagnosis\n",
    "\n",
    "**19 Classes  **\n",
    "diaporthe-stem-canker   \n",
    "charcoal-rot   \n",
    "rhizoctonia-root-rot   \n",
    "phytophthora-rot   \n",
    "brown-stem-rot  \n",
    "powdery-mildew   \n",
    "downy-mildew  \n",
    "brown-spot   \n",
    "bacterial-blight  \n",
    "bacterial-pustule   \n",
    "purple-seed-stain  \n",
    "anthracnose  \n",
    "phyllosticta-leaf-spot   \n",
    "alternarialeaf-spot   \n",
    "frog-eye-leaf-spot   \n",
    "diaporthe-pod-&-stem-blight  \n",
    "cyst-nematode  \n",
    "2-4-d-injury  \n",
    "herbicide-injury  \n",
    "\n",
    "Objectives:  \n",
    "Predicting classes of Soybean Disease"
   ]
  },
  {
   "cell_type": "code",
   "execution_count": 1,
   "metadata": {},
   "outputs": [],
   "source": [
    "import pandas as pd\n",
    "import numpy as np"
   ]
  },
  {
   "cell_type": "markdown",
   "metadata": {},
   "source": [
    "## Data processing"
   ]
  },
  {
   "cell_type": "code",
   "execution_count": 9,
   "metadata": {},
   "outputs": [
    {
     "data": {
      "text/plain": [
       "(307, 36)"
      ]
     },
     "execution_count": 9,
     "metadata": {},
     "output_type": "execute_result"
    }
   ],
   "source": [
    "import pandas as pd\n",
    "import numpy as np\n",
    "from sklearn import preprocessing\n",
    "\n",
    "user= pd.read_csv('https://archive.ics.uci.edu/ml/machine-learning-databases/soybean/backup-large.data',sep =\",\",header=None,na_values=-1)\n",
    "user.head(10)\n",
    "user.shape"
   ]
  },
  {
   "cell_type": "code",
   "execution_count": 3,
   "metadata": {},
   "outputs": [],
   "source": [
    "user = user.dropna(axis=0, how='any')"
   ]
  },
  {
   "cell_type": "code",
   "execution_count": 4,
   "metadata": {},
   "outputs": [
    {
     "data": {
      "text/html": [
       "<div>\n",
       "<style scoped>\n",
       "    .dataframe tbody tr th:only-of-type {\n",
       "        vertical-align: middle;\n",
       "    }\n",
       "\n",
       "    .dataframe tbody tr th {\n",
       "        vertical-align: top;\n",
       "    }\n",
       "\n",
       "    .dataframe thead th {\n",
       "        text-align: right;\n",
       "    }\n",
       "</style>\n",
       "<table border=\"1\" class=\"dataframe\">\n",
       "  <thead>\n",
       "    <tr style=\"text-align: right;\">\n",
       "      <th></th>\n",
       "      <th>0</th>\n",
       "      <th>1</th>\n",
       "      <th>2</th>\n",
       "      <th>3</th>\n",
       "      <th>4</th>\n",
       "      <th>5</th>\n",
       "      <th>6</th>\n",
       "      <th>7</th>\n",
       "      <th>8</th>\n",
       "      <th>9</th>\n",
       "      <th>...</th>\n",
       "      <th>26</th>\n",
       "      <th>27</th>\n",
       "      <th>28</th>\n",
       "      <th>29</th>\n",
       "      <th>30</th>\n",
       "      <th>31</th>\n",
       "      <th>32</th>\n",
       "      <th>33</th>\n",
       "      <th>34</th>\n",
       "      <th>35</th>\n",
       "    </tr>\n",
       "  </thead>\n",
       "  <tbody>\n",
       "    <tr>\n",
       "      <th>0</th>\n",
       "      <td>diaporthe-stem-canker</td>\n",
       "      <td>6.0</td>\n",
       "      <td>0.0</td>\n",
       "      <td>2.0</td>\n",
       "      <td>1.0</td>\n",
       "      <td>0.0</td>\n",
       "      <td>1.0</td>\n",
       "      <td>1.0</td>\n",
       "      <td>1.0</td>\n",
       "      <td>0.0</td>\n",
       "      <td>...</td>\n",
       "      <td>0.0</td>\n",
       "      <td>0.0</td>\n",
       "      <td>0.0</td>\n",
       "      <td>4.0</td>\n",
       "      <td>0.0</td>\n",
       "      <td>0.0</td>\n",
       "      <td>0.0</td>\n",
       "      <td>0.0</td>\n",
       "      <td>0.0</td>\n",
       "      <td>0.0</td>\n",
       "    </tr>\n",
       "    <tr>\n",
       "      <th>1</th>\n",
       "      <td>diaporthe-stem-canker</td>\n",
       "      <td>4.0</td>\n",
       "      <td>0.0</td>\n",
       "      <td>2.0</td>\n",
       "      <td>1.0</td>\n",
       "      <td>0.0</td>\n",
       "      <td>2.0</td>\n",
       "      <td>0.0</td>\n",
       "      <td>2.0</td>\n",
       "      <td>1.0</td>\n",
       "      <td>...</td>\n",
       "      <td>0.0</td>\n",
       "      <td>0.0</td>\n",
       "      <td>0.0</td>\n",
       "      <td>4.0</td>\n",
       "      <td>0.0</td>\n",
       "      <td>0.0</td>\n",
       "      <td>0.0</td>\n",
       "      <td>0.0</td>\n",
       "      <td>0.0</td>\n",
       "      <td>0.0</td>\n",
       "    </tr>\n",
       "    <tr>\n",
       "      <th>2</th>\n",
       "      <td>diaporthe-stem-canker</td>\n",
       "      <td>3.0</td>\n",
       "      <td>0.0</td>\n",
       "      <td>2.0</td>\n",
       "      <td>1.0</td>\n",
       "      <td>0.0</td>\n",
       "      <td>1.0</td>\n",
       "      <td>0.0</td>\n",
       "      <td>2.0</td>\n",
       "      <td>1.0</td>\n",
       "      <td>...</td>\n",
       "      <td>0.0</td>\n",
       "      <td>0.0</td>\n",
       "      <td>0.0</td>\n",
       "      <td>4.0</td>\n",
       "      <td>0.0</td>\n",
       "      <td>0.0</td>\n",
       "      <td>0.0</td>\n",
       "      <td>0.0</td>\n",
       "      <td>0.0</td>\n",
       "      <td>0.0</td>\n",
       "    </tr>\n",
       "    <tr>\n",
       "      <th>3</th>\n",
       "      <td>diaporthe-stem-canker</td>\n",
       "      <td>3.0</td>\n",
       "      <td>0.0</td>\n",
       "      <td>2.0</td>\n",
       "      <td>1.0</td>\n",
       "      <td>0.0</td>\n",
       "      <td>1.0</td>\n",
       "      <td>0.0</td>\n",
       "      <td>2.0</td>\n",
       "      <td>0.0</td>\n",
       "      <td>...</td>\n",
       "      <td>0.0</td>\n",
       "      <td>0.0</td>\n",
       "      <td>0.0</td>\n",
       "      <td>4.0</td>\n",
       "      <td>0.0</td>\n",
       "      <td>0.0</td>\n",
       "      <td>0.0</td>\n",
       "      <td>0.0</td>\n",
       "      <td>0.0</td>\n",
       "      <td>0.0</td>\n",
       "    </tr>\n",
       "    <tr>\n",
       "      <th>4</th>\n",
       "      <td>diaporthe-stem-canker</td>\n",
       "      <td>6.0</td>\n",
       "      <td>0.0</td>\n",
       "      <td>2.0</td>\n",
       "      <td>1.0</td>\n",
       "      <td>0.0</td>\n",
       "      <td>2.0</td>\n",
       "      <td>0.0</td>\n",
       "      <td>1.0</td>\n",
       "      <td>0.0</td>\n",
       "      <td>...</td>\n",
       "      <td>0.0</td>\n",
       "      <td>0.0</td>\n",
       "      <td>0.0</td>\n",
       "      <td>4.0</td>\n",
       "      <td>0.0</td>\n",
       "      <td>0.0</td>\n",
       "      <td>0.0</td>\n",
       "      <td>0.0</td>\n",
       "      <td>0.0</td>\n",
       "      <td>0.0</td>\n",
       "    </tr>\n",
       "  </tbody>\n",
       "</table>\n",
       "<p>5 rows × 36 columns</p>\n",
       "</div>"
      ],
      "text/plain": [
       "                      0    1    2    3    4    5    6    7    8    9  ...   \\\n",
       "0  diaporthe-stem-canker  6.0  0.0  2.0  1.0  0.0  1.0  1.0  1.0  0.0 ...    \n",
       "1  diaporthe-stem-canker  4.0  0.0  2.0  1.0  0.0  2.0  0.0  2.0  1.0 ...    \n",
       "2  diaporthe-stem-canker  3.0  0.0  2.0  1.0  0.0  1.0  0.0  2.0  1.0 ...    \n",
       "3  diaporthe-stem-canker  3.0  0.0  2.0  1.0  0.0  1.0  0.0  2.0  0.0 ...    \n",
       "4  diaporthe-stem-canker  6.0  0.0  2.0  1.0  0.0  2.0  0.0  1.0  0.0 ...    \n",
       "\n",
       "    26   27   28   29   30   31   32   33   34   35  \n",
       "0  0.0  0.0  0.0  4.0  0.0  0.0  0.0  0.0  0.0  0.0  \n",
       "1  0.0  0.0  0.0  4.0  0.0  0.0  0.0  0.0  0.0  0.0  \n",
       "2  0.0  0.0  0.0  4.0  0.0  0.0  0.0  0.0  0.0  0.0  \n",
       "3  0.0  0.0  0.0  4.0  0.0  0.0  0.0  0.0  0.0  0.0  \n",
       "4  0.0  0.0  0.0  4.0  0.0  0.0  0.0  0.0  0.0  0.0  \n",
       "\n",
       "[5 rows x 36 columns]"
      ]
     },
     "execution_count": 4,
     "metadata": {},
     "output_type": "execute_result"
    }
   ],
   "source": [
    "user.head(5)"
   ]
  },
  {
   "cell_type": "code",
   "execution_count": 5,
   "metadata": {},
   "outputs": [
    {
     "data": {
      "text/plain": [
       "(266, 36)"
      ]
     },
     "execution_count": 5,
     "metadata": {},
     "output_type": "execute_result"
    }
   ],
   "source": [
    "user.shape"
   ]
  },
  {
   "cell_type": "code",
   "execution_count": 6,
   "metadata": {},
   "outputs": [
    {
     "name": "stdout",
     "output_type": "stream",
     "text": [
      "36\n",
      "     1    2    3    4    5    6    7    8    9    10 ...    26   27   28   29  \\\n",
      "0   6.0  0.0  2.0  1.0  0.0  1.0  1.0  1.0  0.0  0.0 ...   0.0  0.0  0.0  4.0   \n",
      "1   4.0  0.0  2.0  1.0  0.0  2.0  0.0  2.0  1.0  1.0 ...   0.0  0.0  0.0  4.0   \n",
      "2   3.0  0.0  2.0  1.0  0.0  1.0  0.0  2.0  1.0  2.0 ...   0.0  0.0  0.0  4.0   \n",
      "3   3.0  0.0  2.0  1.0  0.0  1.0  0.0  2.0  0.0  1.0 ...   0.0  0.0  0.0  4.0   \n",
      "4   6.0  0.0  2.0  1.0  0.0  2.0  0.0  1.0  0.0  2.0 ...   0.0  0.0  0.0  4.0   \n",
      "5   5.0  0.0  2.0  1.0  0.0  3.0  0.0  1.0  0.0  1.0 ...   0.0  0.0  0.0  4.0   \n",
      "6   5.0  0.0  2.0  1.0  0.0  2.0  0.0  1.0  1.0  0.0 ...   0.0  0.0  0.0  4.0   \n",
      "7   4.0  0.0  2.0  1.0  1.0  1.0  0.0  1.0  0.0  2.0 ...   0.0  0.0  0.0  4.0   \n",
      "8   6.0  0.0  2.0  1.0  0.0  3.0  0.0  1.0  1.0  1.0 ...   0.0  0.0  0.0  4.0   \n",
      "9   4.0  0.0  2.0  1.0  0.0  2.0  0.0  2.0  0.0  2.0 ...   0.0  0.0  0.0  4.0   \n",
      "10  6.0  0.0  0.0  2.0  0.0  1.0  3.0  1.0  1.0  0.0 ...   2.0  1.0  0.0  4.0   \n",
      "11  4.0  0.0  0.0  1.0  1.0  1.0  3.0  1.0  1.0  1.0 ...   2.0  1.0  0.0  4.0   \n",
      "12  3.0  0.0  0.0  1.0  0.0  1.0  2.0  1.0  0.0  0.0 ...   2.0  1.0  0.0  4.0   \n",
      "13  6.0  0.0  0.0  1.0  1.0  3.0  3.0  1.0  1.0  0.0 ...   2.0  1.0  0.0  4.0   \n",
      "14  6.0  0.0  0.0  2.0  0.0  1.0  3.0  1.0  1.0  1.0 ...   2.0  1.0  0.0  4.0   \n",
      "15  5.0  0.0  0.0  2.0  1.0  3.0  3.0  1.0  1.0  2.0 ...   2.0  1.0  0.0  4.0   \n",
      "16  6.0  0.0  0.0  2.0  1.0  0.0  2.0  1.0  0.0  0.0 ...   2.0  1.0  0.0  4.0   \n",
      "17  4.0  0.0  0.0  1.0  0.0  2.0  2.0  1.0  0.0  1.0 ...   2.0  1.0  0.0  4.0   \n",
      "18  3.0  0.0  0.0  2.0  0.0  2.0  2.0  1.0  0.0  2.0 ...   2.0  1.0  0.0  4.0   \n",
      "19  5.0  0.0  0.0  2.0  1.0  2.0  2.0  1.0  0.0  2.0 ...   2.0  1.0  0.0  4.0   \n",
      "\n",
      "     30   31   32   33   34   35  \n",
      "0   0.0  0.0  0.0  0.0  0.0  0.0  \n",
      "1   0.0  0.0  0.0  0.0  0.0  0.0  \n",
      "2   0.0  0.0  0.0  0.0  0.0  0.0  \n",
      "3   0.0  0.0  0.0  0.0  0.0  0.0  \n",
      "4   0.0  0.0  0.0  0.0  0.0  0.0  \n",
      "5   0.0  0.0  0.0  0.0  0.0  0.0  \n",
      "6   0.0  0.0  0.0  0.0  0.0  0.0  \n",
      "7   0.0  0.0  0.0  0.0  0.0  0.0  \n",
      "8   0.0  0.0  0.0  0.0  0.0  0.0  \n",
      "9   0.0  0.0  0.0  0.0  0.0  0.0  \n",
      "10  0.0  0.0  0.0  0.0  0.0  0.0  \n",
      "11  0.0  0.0  0.0  0.0  0.0  0.0  \n",
      "12  0.0  0.0  0.0  0.0  0.0  0.0  \n",
      "13  0.0  0.0  0.0  0.0  0.0  0.0  \n",
      "14  0.0  0.0  0.0  0.0  0.0  0.0  \n",
      "15  0.0  0.0  0.0  0.0  0.0  0.0  \n",
      "16  0.0  0.0  0.0  0.0  0.0  0.0  \n",
      "17  0.0  0.0  0.0  0.0  0.0  0.0  \n",
      "18  0.0  0.0  0.0  0.0  0.0  0.0  \n",
      "19  0.0  0.0  0.0  0.0  0.0  0.0  \n",
      "\n",
      "[20 rows x 35 columns]\n",
      "0     diaporthe-stem-canker\n",
      "1     diaporthe-stem-canker\n",
      "2     diaporthe-stem-canker\n",
      "3     diaporthe-stem-canker\n",
      "4     diaporthe-stem-canker\n",
      "5     diaporthe-stem-canker\n",
      "6     diaporthe-stem-canker\n",
      "7     diaporthe-stem-canker\n",
      "8     diaporthe-stem-canker\n",
      "9     diaporthe-stem-canker\n",
      "10             charcoal-rot\n",
      "11             charcoal-rot\n",
      "12             charcoal-rot\n",
      "13             charcoal-rot\n",
      "14             charcoal-rot\n",
      "15             charcoal-rot\n",
      "16             charcoal-rot\n",
      "17             charcoal-rot\n",
      "18             charcoal-rot\n",
      "19             charcoal-rot\n",
      "Name: 0, dtype: object\n"
     ]
    },
    {
     "data": {
      "text/plain": [
       "266"
      ]
     },
     "execution_count": 6,
     "metadata": {},
     "output_type": "execute_result"
    }
   ],
   "source": [
    "\n",
    "x=len(user.columns)\n",
    "print(x)\n",
    "soy_input = user.iloc[:,1:36] #[r,c]\n",
    "soy_target = user.iloc[:,0]\n",
    "print(soy_input.head(20))\n",
    "print(soy_target.head(20))\n",
    "\n",
    "from sklearn.preprocessing import LabelEncoder\n",
    "encoder = LabelEncoder()\n",
    "encoder.fit(soy_target)\n",
    "soy_target = encoder.transform(soy_target)\n",
    "len(soy_target)"
   ]
  },
  {
   "cell_type": "code",
   "execution_count": 12,
   "metadata": {},
   "outputs": [
    {
     "data": {
      "text/plain": [
       "array([ 7,  7,  7,  7,  7,  7,  7,  7,  7,  7,  6,  6,  6,  6,  6,  6,  6,\n",
       "        6,  6,  6, 14, 14, 14, 14, 14, 14, 14, 14, 14, 14, 11, 11, 11, 11,\n",
       "       11, 11, 11, 11, 11, 11, 11, 11, 11, 11, 11, 11,  5,  5,  5,  5,  5,\n",
       "        5,  5,  5,  5,  5,  5,  5,  5,  5,  5,  5,  5,  5,  5,  5, 12, 12,\n",
       "       12, 12, 12, 12, 12, 12, 12, 12,  8,  8,  8,  8,  8,  8,  8,  8,  8,\n",
       "        8,  4,  4,  4,  4,  4,  4,  4,  4,  4,  4,  4,  4,  4,  4,  4,  4,\n",
       "        4,  4,  4,  4,  4,  4,  4,  4,  4,  4,  4,  4,  4,  4,  4,  4,  4,\n",
       "        4,  4,  4,  4,  4,  4,  4,  2,  2,  2,  2,  2,  2,  2,  2,  2,  2,\n",
       "        3,  3,  3,  3,  3,  3,  3,  3,  3,  3, 13, 13, 13, 13, 13, 13, 13,\n",
       "       13, 13, 13,  1,  1,  1,  1,  1,  1,  1,  1,  1,  1,  1,  1,  1,  1,\n",
       "        1,  1,  1,  1,  1,  1, 10, 10, 10, 10, 10, 10, 10, 10, 10, 10,  0,\n",
       "        0,  0,  0,  0,  0,  0,  0,  0,  0,  0,  0,  0,  0,  0,  0,  0,  0,\n",
       "        0,  0,  0,  0,  0,  0,  0,  0,  0,  0,  0,  0,  0,  0,  0,  0,  0,\n",
       "        0,  0,  0,  0,  0,  9,  9,  9,  9,  9,  9,  9,  9,  9,  9,  9,  9,\n",
       "        9,  9,  9,  9,  9,  9,  9,  9,  9,  9,  9,  9,  9,  9,  9,  9,  9,\n",
       "        9,  9,  9,  9,  9,  9,  9,  9,  9,  9,  9], dtype=int64)"
      ]
     },
     "execution_count": 12,
     "metadata": {},
     "output_type": "execute_result"
    }
   ],
   "source": [
    "soy_target\n",
    "\n",
    "#soy_target = preprocessing.normalize(soy_target)"
   ]
  },
  {
   "cell_type": "markdown",
   "metadata": {},
   "source": [
    "## Modelling using Neural Network"
   ]
  },
  {
   "cell_type": "code",
   "execution_count": null,
   "metadata": {},
   "outputs": [],
   "source": [
    "soy_X = np.asarray(soy_input)\n",
    "soy_y = np.asarray(soy_target)\n",
    "\n",
    "np.random.seed(0)\n",
    "indices = np.random.permutation(len(soy_X))\n",
    "\n",
    "\n",
    "soy_x_train = soy_X[indices[:-10]]\n",
    "soy_y_train = soy_y[indices[:-10]]\n",
    "\n",
    "soy_X_test  = soy_X[indices[-10:]]\n",
    "soy_y_test  = soy_y[indices[-10:]]"
   ]
  },
  {
   "cell_type": "code",
   "execution_count": null,
   "metadata": {},
   "outputs": [],
   "source": [
    "## Neural network\n",
    "from sklearn.neural_network import MLPClassifier\n",
    "model = MLPClassifier(hidden_layer_sizes=(10, ),activation='relu',solver='adam',verbose=0, random_state=1,max_iter=5000)\n",
    "model.fit(soy_x_train, soy_y_train) "
   ]
  },
  {
   "cell_type": "code",
   "execution_count": null,
   "metadata": {},
   "outputs": [],
   "source": [
    "y_pred = model.predict(soy_X_test)\n",
    "print(list(y_pred))\n",
    "y_true = soy_y_test\n",
    "print(y_true)"
   ]
  },
  {
   "cell_type": "markdown",
   "metadata": {},
   "source": [
    "## Model evaluation Neural Network"
   ]
  },
  {
   "cell_type": "code",
   "execution_count": null,
   "metadata": {},
   "outputs": [],
   "source": [
    "## acuracy\n",
    "from sklearn.metrics import accuracy_score\n",
    "result_acc = accuracy_score(y_true, y_pred)\n",
    "print('ACC: ', + result_acc)"
   ]
  },
  {
   "cell_type": "code",
   "execution_count": null,
   "metadata": {},
   "outputs": [],
   "source": [
    "## evaluation\n",
    "## mse\n",
    "from sklearn.metrics import mean_squared_error\n",
    "result_mse = mean_squared_error(y_true, y_pred)\n",
    "print('MSE: ', + result_mse)"
   ]
  },
  {
   "cell_type": "code",
   "execution_count": null,
   "metadata": {
    "scrolled": true
   },
   "outputs": [],
   "source": [
    "## confusion matrix\n",
    "from sklearn.metrics import confusion_matrix\n",
    "result_confMatrix = confusion_matrix(y_true, y_pred)\n",
    "print('Conf Mat: ', + result_confMatrix)"
   ]
  },
  {
   "cell_type": "code",
   "execution_count": null,
   "metadata": {},
   "outputs": [],
   "source": [
    "## export model\n",
    "from sklearn.externals import joblib\n",
    "joblib.dump(model, 'soy.pkl')"
   ]
  },
  {
   "cell_type": "markdown",
   "metadata": {},
   "source": [
    "## Modelling Logistic regression"
   ]
  },
  {
   "cell_type": "code",
   "execution_count": null,
   "metadata": {},
   "outputs": [],
   "source": [
    "from sklearn.linear_model import LogisticRegression\n",
    "from sklearn import linear_model\n",
    "logreg = linear_model.LogisticRegression(C=1e5)\n",
    "\n",
    "# we create an instance of Neighbours Classifier and fit the data.\n",
    "logreg.fit(soy_x_train, soy_y_train)\n",
    "Z_pred = logreg.predict(soy_X_test)\n",
    "print(Z_pred)\n",
    "z_true=soy_y_test\n",
    "print(z_true)\n",
    "from sklearn.externals import joblib\n",
    "joblib.dump(model, 'soy_logistic.pkl')"
   ]
  },
  {
   "cell_type": "markdown",
   "metadata": {},
   "source": [
    "## Model evaluation Logistic regression"
   ]
  },
  {
   "cell_type": "code",
   "execution_count": null,
   "metadata": {},
   "outputs": [],
   "source": [
    "## acuracy\n",
    "from sklearn.metrics import accuracy_score\n",
    "result_acc = accuracy_score(z_true, Z_pred)\n",
    "print('ACC: ', + result_acc)"
   ]
  },
  {
   "cell_type": "code",
   "execution_count": null,
   "metadata": {},
   "outputs": [],
   "source": [
    "## evaluation\n",
    "## mse\n",
    "from sklearn.metrics import mean_squared_error\n",
    "result_mse = mean_squared_error(z_true, Z_pred)\n",
    "print('MSE: ', + result_mse)"
   ]
  },
  {
   "cell_type": "code",
   "execution_count": null,
   "metadata": {},
   "outputs": [],
   "source": [
    "## confusion matrix\n",
    "from sklearn.metrics import confusion_matrix\n",
    "result_confMatrix = confusion_matrix(z_true, Z_pred)\n",
    "print('Conf Mat: ', + result_confMatrix)"
   ]
  },
  {
   "cell_type": "markdown",
   "metadata": {},
   "source": [
    "## Predicting class of soy"
   ]
  },
  {
   "cell_type": "code",
   "execution_count": null,
   "metadata": {},
   "outputs": [],
   "source": [
    "clf=joblib.load('soy.pkl')\n",
    "user= pd.read_csv('C:/Users/masoodm/Documents/Python UTM learning/Test.csv',sep =\",\",header=None,na_values=-1)\n",
    "test_data=np.array(user)\n",
    "result_predict=clf.predict(test_data.reshape(1,-1))\n",
    "result_predict"
   ]
  },
  {
   "cell_type": "code",
   "execution_count": null,
   "metadata": {},
   "outputs": [],
   "source": [
    "clf=joblib.load('soy_logistic.pkl')\n",
    "user= pd.read_csv('C:/Users/masoodm/Documents/Python UTM learning/Test.csv',sep =\",\",header=None,na_values=-1)\n",
    "test_data=np.array(user)\n",
    "result_predict=clf.predict(test_data.reshape(1,-1))\n",
    "result_predict"
   ]
  },
  {
   "cell_type": "code",
   "execution_count": null,
   "metadata": {},
   "outputs": [],
   "source": []
  }
 ],
 "metadata": {
  "kernelspec": {
   "display_name": "Python 3",
   "language": "python",
   "name": "python3"
  },
  "language_info": {
   "codemirror_mode": {
    "name": "ipython",
    "version": 3
   },
   "file_extension": ".py",
   "mimetype": "text/x-python",
   "name": "python",
   "nbconvert_exporter": "python",
   "pygments_lexer": "ipython3",
   "version": "3.5.5"
  }
 },
 "nbformat": 4,
 "nbformat_minor": 1
}
