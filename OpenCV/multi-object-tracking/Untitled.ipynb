{
 "cells": [
  {
   "cell_type": "code",
   "execution_count": 1,
   "metadata": {},
   "outputs": [],
   "source": [
    "from imutils.video import VideoStream\n",
    "import argparse\n",
    "import imutils\n",
    "import time\n",
    "import cv2"
   ]
  },
  {
   "cell_type": "code",
   "execution_count": 2,
   "metadata": {},
   "outputs": [
    {
     "ename": "SyntaxError",
     "evalue": "unexpected EOF while parsing (<ipython-input-2-42ec530eb1d9>, line 8)",
     "output_type": "error",
     "traceback": [
      "\u001b[1;36m  File \u001b[1;32m\"<ipython-input-2-42ec530eb1d9>\"\u001b[1;36m, line \u001b[1;32m8\u001b[0m\n\u001b[1;33m    \"mosse\": cv2.TrackerMOSSE_create\u001b[0m\n\u001b[1;37m                                    ^\u001b[0m\n\u001b[1;31mSyntaxError\u001b[0m\u001b[1;31m:\u001b[0m unexpected EOF while parsing\n"
     ]
    }
   ],
   "source": [
    "OPENCV_OBJECT_TRACKERS = {\n",
    "\t\"csrt\": cv2.TrackerCSRT_create,\n",
    "\t\"kcf\": cv2.TrackerKCF_create,\n",
    "\t\"boosting\": cv2.TrackerBoosting_create,\n",
    "\t\"mil\": cv2.TrackerMIL_create,\n",
    "\t\"tld\": cv2.TrackerTLD_create,\n",
    "\t\"medianflow\": cv2.TrackerMedianFlow_create,\n",
    "\t\"mosse\": cv2.TrackerMOSSE_create"
   ]
  },
  {
   "cell_type": "code",
   "execution_count": 3,
   "metadata": {},
   "outputs": [],
   "source": [
    "OPENCV_OBJECT_TRACKERS = {\n",
    "\t\"csrt\": cv2.TrackerCSRT_create,\n",
    "\t\"kcf\": cv2.TrackerKCF_create,\n",
    "\t\"boosting\": cv2.TrackerBoosting_create,\n",
    "\t\"mil\": cv2.TrackerMIL_create,\n",
    "\t\"tld\": cv2.TrackerTLD_create,\n",
    "\t\"medianflow\": cv2.TrackerMedianFlow_create,\n",
    "\t\"mosse\": cv2.TrackerMOSSE_create\n",
    "}"
   ]
  },
  {
   "cell_type": "code",
   "execution_count": 4,
   "metadata": {},
   "outputs": [
    {
     "name": "stdout",
     "output_type": "stream",
     "text": [
      "{'tld': <built-in function TrackerTLD_create>, 'mosse': <built-in function TrackerMOSSE_create>, 'mil': <built-in function TrackerMIL_create>, 'kcf': <built-in function TrackerKCF_create>, 'boosting': <built-in function TrackerBoosting_create>, 'csrt': <built-in function TrackerCSRT_create>, 'medianflow': <built-in function TrackerMedianFlow_create>}\n"
     ]
    }
   ],
   "source": [
    "print(OPENCV_OBJECT_TRACKERS)"
   ]
  },
  {
   "cell_type": "code",
   "execution_count": 8,
   "metadata": {},
   "outputs": [],
   "source": [
    "# initialize OpenCV's special multi-object tracker\n",
    "trackers = cv2.MultiTracker_create()"
   ]
  },
  {
   "cell_type": "code",
   "execution_count": 9,
   "metadata": {},
   "outputs": [
    {
     "name": "stdout",
     "output_type": "stream",
     "text": [
      "<TrackerKCF 00000209ED8A1C50>\n"
     ]
    }
   ],
   "source": [
    "trackers = cv2.TrackerKCF_create()\n",
    "print(trackers)"
   ]
  },
  {
   "cell_type": "code",
   "execution_count": null,
   "metadata": {},
   "outputs": [],
   "source": []
  }
 ],
 "metadata": {
  "kernelspec": {
   "display_name": "Python 3",
   "language": "python",
   "name": "python3"
  },
  "language_info": {
   "codemirror_mode": {
    "name": "ipython",
    "version": 3
   },
   "file_extension": ".py",
   "mimetype": "text/x-python",
   "name": "python",
   "nbconvert_exporter": "python",
   "pygments_lexer": "ipython3",
   "version": "3.5.5"
  }
 },
 "nbformat": 4,
 "nbformat_minor": 2
}
