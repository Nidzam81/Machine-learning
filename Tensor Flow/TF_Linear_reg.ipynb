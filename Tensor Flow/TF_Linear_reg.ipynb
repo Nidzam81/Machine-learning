{
 "cells": [
  {
   "cell_type": "code",
   "execution_count": 1,
   "metadata": {},
   "outputs": [],
   "source": [
    "import tensorflow as tf\n",
    "import numpy\n",
    "import matplotlib.pyplot as plt\n",
    "rng = numpy.random"
   ]
  },
  {
   "cell_type": "code",
   "execution_count": 2,
   "metadata": {},
   "outputs": [],
   "source": [
    "\n",
    "# Parameters\n",
    "learning_rate = 0.01\n",
    "training_epochs = 2000\n",
    "display_step = 50"
   ]
  },
  {
   "cell_type": "code",
   "execution_count": 3,
   "metadata": {},
   "outputs": [],
   "source": [
    "# Training Data\n",
    "train_X = numpy.asarray([3.3,4.4,5.5,6.71,6.93,4.168,9.779,6.182,7.59,2.167,7.042,10.791,5.313,7.997,5.654,9.27,3.1])\n",
    "train_Y = numpy.asarray([1.7,2.76,2.09,3.19,1.694,1.573,3.366,2.596,2.53,1.221,2.827,3.465,1.65,2.904,2.42,2.94,1.3])\n",
    "n_samples = train_X.shape[0]"
   ]
  },
  {
   "cell_type": "code",
   "execution_count": 12,
   "metadata": {},
   "outputs": [],
   "source": [
    "# tf Graph Input\n",
    "X = tf.placeholder(\"float\")\n",
    "Y = tf.placeholder(\"float\")"
   ]
  },
  {
   "cell_type": "code",
   "execution_count": 13,
   "metadata": {},
   "outputs": [],
   "source": [
    "# Create Model\n",
    "\n",
    "# Set model weights\n",
    "W = tf.Variable(rng.randn(), name=\"weight\")\n",
    "b = tf.Variable(rng.randn(), name=\"bias\")"
   ]
  },
  {
   "cell_type": "code",
   "execution_count": 15,
   "metadata": {},
   "outputs": [],
   "source": [
    "\n",
    "# Construct a linear model\n",
    "activation = tf.add(tf.multiply(X, W), b)"
   ]
  },
  {
   "cell_type": "code",
   "execution_count": 16,
   "metadata": {},
   "outputs": [],
   "source": [
    "# Minimize the squared errors\n",
    "cost = tf.reduce_sum(tf.pow(activation-Y, 2))/(2*n_samples) #L2 loss\n",
    "optimizer = tf.train.GradientDescentOptimizer(learning_rate).minimize(cost) #Gradient descent"
   ]
  },
  {
   "cell_type": "code",
   "execution_count": 21,
   "metadata": {},
   "outputs": [],
   "source": [
    "# Initializing the variables\n",
    "init = tf.initialize_all_variables()"
   ]
  },
  {
   "cell_type": "code",
   "execution_count": 22,
   "metadata": {},
   "outputs": [
    {
     "name": "stdout",
     "output_type": "stream",
     "text": [
      "Epoch: 0001 cost= 25.499111176 W= -0.6741794 b= -0.2273702\n",
      "Epoch: 0051 cost= 0.119236387 W= 0.36461034 b= -0.025956009\n",
      "Epoch: 0101 cost= 0.114351116 W= 0.35776976 b= 0.023254769\n",
      "Epoch: 0151 cost= 0.110030241 W= 0.351336 b= 0.069538675\n",
      "Epoch: 0201 cost= 0.106208615 W= 0.34528494 b= 0.11306983\n",
      "Epoch: 0251 cost= 0.102828518 W= 0.33959368 b= 0.15401195\n",
      "Epoch: 0301 cost= 0.099839024 W= 0.33424097 b= 0.19251913\n",
      "Epoch: 0351 cost= 0.097194985 W= 0.32920665 b= 0.22873622\n",
      "Epoch: 0401 cost= 0.094856516 W= 0.32447162 b= 0.26279926\n",
      "Epoch: 0451 cost= 0.092788331 W= 0.3200182 b= 0.29483664\n",
      "Epoch: 0501 cost= 0.090959199 W= 0.31582975 b= 0.3249684\n",
      "Epoch: 0551 cost= 0.089341551 W= 0.31189036 b= 0.35330772\n",
      "Epoch: 0601 cost= 0.087910928 W= 0.30818525 b= 0.37996212\n",
      "Epoch: 0651 cost= 0.086645685 W= 0.3047004 b= 0.40503144\n",
      "Epoch: 0701 cost= 0.085526831 W= 0.30142304 b= 0.42860883\n",
      "Epoch: 0751 cost= 0.084537327 W= 0.2983405 b= 0.45078433\n",
      "Epoch: 0801 cost= 0.083662279 W= 0.2954413 b= 0.4716413\n",
      "Epoch: 0851 cost= 0.082888491 W= 0.29271448 b= 0.4912574\n",
      "Epoch: 0901 cost= 0.082204200 W= 0.29015 b= 0.509707\n",
      "Epoch: 0951 cost= 0.081599146 W= 0.28773788 b= 0.52705914\n",
      "Epoch: 1001 cost= 0.081064083 W= 0.2854693 b= 0.5433795\n",
      "Epoch: 1051 cost= 0.080590956 W= 0.28333557 b= 0.5587296\n",
      "Epoch: 1101 cost= 0.080172621 W= 0.28132853 b= 0.5731673\n",
      "Epoch: 1151 cost= 0.079802759 W= 0.27944112 b= 0.5867455\n",
      "Epoch: 1201 cost= 0.079475656 W= 0.27766564 b= 0.599518\n",
      "Epoch: 1251 cost= 0.079186499 W= 0.27599582 b= 0.61153054\n",
      "Epoch: 1301 cost= 0.078930900 W= 0.27442572 b= 0.6228258\n",
      "Epoch: 1351 cost= 0.078704938 W= 0.27294898 b= 0.63344926\n",
      "Epoch: 1401 cost= 0.078505158 W= 0.27156007 b= 0.64344084\n",
      "Epoch: 1451 cost= 0.078328565 W= 0.27025357 b= 0.6528399\n",
      "Epoch: 1501 cost= 0.078172445 W= 0.2690247 b= 0.66167974\n",
      "Epoch: 1551 cost= 0.078034423 W= 0.26786923 b= 0.6699929\n",
      "Epoch: 1601 cost= 0.077912472 W= 0.26678234 b= 0.677812\n",
      "Epoch: 1651 cost= 0.077804640 W= 0.26576 b= 0.6851662\n",
      "Epoch: 1701 cost= 0.077709377 W= 0.26479864 b= 0.6920828\n",
      "Epoch: 1751 cost= 0.077625163 W= 0.2638943 b= 0.6985882\n",
      "Epoch: 1801 cost= 0.077550769 W= 0.26304388 b= 0.70470655\n",
      "Epoch: 1851 cost= 0.077485010 W= 0.2622438 b= 0.71046185\n",
      "Epoch: 1901 cost= 0.077426903 W= 0.2614914 b= 0.7158746\n",
      "Epoch: 1951 cost= 0.077375576 W= 0.26078367 b= 0.72096574\n",
      "Optimization Finished!\n",
      "cost= 0.07733107 W= 0.26013094 b= 0.72566116\n"
     ]
    },
    {
     "data": {
      "image/png": "[encoded data removed]",
      "text/plain": [
       "<Figure size 432x288 with 1 Axes>"
      ]
     },
     "metadata": {},
     "output_type": "display_data"
    }
   ],
   "source": [
    "# Launch the graph\n",
    "with tf.Session() as sess:\n",
    "    sess.run(init)\n",
    "\n",
    "    # Fit all training data\n",
    "    for epoch in range(training_epochs):\n",
    "        for (x, y) in zip(train_X, train_Y):\n",
    "            sess.run(optimizer, feed_dict={X: x, Y: y})\n",
    "\n",
    "        #Display logs per epoch step\n",
    "        if epoch % display_step == 0:\n",
    "            print( \"Epoch:\", '%04d' % (epoch+1), \"cost=\", \\\n",
    "                \"{:.9f}\".format(sess.run(cost, feed_dict={X: train_X, Y:train_Y})), \\\n",
    "                \"W=\", sess.run(W), \"b=\", sess.run(b))\n",
    "\n",
    "    print (\"Optimization Finished!\")\n",
    "    print (\"cost=\", sess.run(cost, feed_dict={X: train_X, Y: train_Y}), \\\n",
    "          \"W=\", sess.run(W), \"b=\", sess.run(b))\n",
    "\n",
    "    #Graphic display\n",
    "    plt.plot(train_X, train_Y, 'ro', label='Original data')\n",
    "    plt.plot(train_X, sess.run(W) * train_X + sess.run(b), label='Fitted line')\n",
    "    plt.legend()\n",
    "    plt.show()"
   ]
  },
  {
   "cell_type": "code",
   "execution_count": null,
   "metadata": {},
   "outputs": [],
   "source": []
  }
 ],
 "metadata": {
  "kernelspec": {
   "display_name": "Python 3",
   "language": "python",
   "name": "python3"
  },
  "language_info": {
   "codemirror_mode": {
    "name": "ipython",
    "version": 3
   },
   "file_extension": ".py",
   "mimetype": "text/x-python",
   "name": "python",
   "nbconvert_exporter": "python",
   "pygments_lexer": "ipython3",
   "version": "3.5.5"
  }
 },
 "nbformat": 4,
 "nbformat_minor": 2
}
